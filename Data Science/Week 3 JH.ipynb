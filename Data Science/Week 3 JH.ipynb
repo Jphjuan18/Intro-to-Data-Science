{
 "cells": [
  {
   "cell_type": "code",
   "execution_count": 1,
   "id": "c9a2d51d",
   "metadata": {},
   "outputs": [
    {
     "name": "stdout",
     "output_type": "stream",
     "text": [
      "Collecting package metadata (current_repodata.json): done\n",
      "Solving environment: done\n",
      "\n",
      "# All requested packages already installed.\n",
      "\n"
     ]
    }
   ],
   "source": [
    "!conda install -c conda-forge pandas pandas-profiling matplotlib openpyxl -y"
   ]
  },
  {
   "cell_type": "code",
   "execution_count": 2,
   "id": "8ecf919b",
   "metadata": {},
   "outputs": [],
   "source": [
    "#pip install pandas-profiling"
   ]
  },
  {
   "cell_type": "code",
   "execution_count": 3,
   "id": "ecd01083",
   "metadata": {},
   "outputs": [],
   "source": [
    "import pandas as pd\n",
    "from sklearn.model_selection import train_test_split\n",
    "from sklearn.linear_model import LogisticRegression\n",
    "from sklearn.metrics import plot_confusion_matrix"
   ]
  },
  {
   "cell_type": "code",
   "execution_count": 4,
   "id": "a8625678",
   "metadata": {},
   "outputs": [],
   "source": [
    "df = pd.read_csv('clean_churn_data.csv',index_col='Unnamed: 0')"
   ]
  },
  {
   "cell_type": "code",
   "execution_count": 5,
   "id": "de4b095d",
   "metadata": {},
   "outputs": [
    {
     "data": {
      "text/html": [
       "<div>\n",
       "<style scoped>\n",
       "    .dataframe tbody tr th:only-of-type {\n",
       "        vertical-align: middle;\n",
       "    }\n",
       "\n",
       "    .dataframe tbody tr th {\n",
       "        vertical-align: top;\n",
       "    }\n",
       "\n",
       "    .dataframe thead th {\n",
       "        text-align: right;\n",
       "    }\n",
       "</style>\n",
       "<table border=\"1\" class=\"dataframe\">\n",
       "  <thead>\n",
       "    <tr style=\"text-align: right;\">\n",
       "      <th></th>\n",
       "      <th>customerID</th>\n",
       "      <th>tenure</th>\n",
       "      <th>PhoneService</th>\n",
       "      <th>Contract</th>\n",
       "      <th>PaymentMethod</th>\n",
       "      <th>MonthlyCharges</th>\n",
       "      <th>TotalCharges</th>\n",
       "      <th>Churn</th>\n",
       "      <th>Box_Cox</th>\n",
       "      <th>TotalCharges_Transform</th>\n",
       "      <th>Tenuresqrt/TotalCharges_Ratio</th>\n",
       "      <th>TotalChargeslog/MonthlyCharges_Ratio</th>\n",
       "      <th>MonthlyCharges/TotalCharges_Ratio</th>\n",
       "    </tr>\n",
       "  </thead>\n",
       "  <tbody>\n",
       "    <tr>\n",
       "      <th>0</th>\n",
       "      <td>7590-VHVEG</td>\n",
       "      <td>1</td>\n",
       "      <td>0</td>\n",
       "      <td>0</td>\n",
       "      <td>0</td>\n",
       "      <td>29.85</td>\n",
       "      <td>29.85</td>\n",
       "      <td>0</td>\n",
       "      <td>5.399287</td>\n",
       "      <td>-1.812552</td>\n",
       "      <td>0.294448</td>\n",
       "      <td>1.608721</td>\n",
       "      <td>8.789274</td>\n",
       "    </tr>\n",
       "    <tr>\n",
       "      <th>1</th>\n",
       "      <td>5575-GNVDE</td>\n",
       "      <td>34</td>\n",
       "      <td>1</td>\n",
       "      <td>1</td>\n",
       "      <td>1</td>\n",
       "      <td>56.95</td>\n",
       "      <td>1889.50</td>\n",
       "      <td>0</td>\n",
       "      <td>22.900956</td>\n",
       "      <td>0.254068</td>\n",
       "      <td>0.772919</td>\n",
       "      <td>10.753714</td>\n",
       "      <td>7.548978</td>\n",
       "    </tr>\n",
       "    <tr>\n",
       "      <th>2</th>\n",
       "      <td>3668-QPYBK</td>\n",
       "      <td>2</td>\n",
       "      <td>1</td>\n",
       "      <td>0</td>\n",
       "      <td>1</td>\n",
       "      <td>53.85</td>\n",
       "      <td>108.15</td>\n",
       "      <td>1</td>\n",
       "      <td>9.018523</td>\n",
       "      <td>-1.385188</td>\n",
       "      <td>0.301955</td>\n",
       "      <td>2.608879</td>\n",
       "      <td>11.497764</td>\n",
       "    </tr>\n",
       "    <tr>\n",
       "      <th>3</th>\n",
       "      <td>7795-CFOCW</td>\n",
       "      <td>45</td>\n",
       "      <td>0</td>\n",
       "      <td>1</td>\n",
       "      <td>2</td>\n",
       "      <td>42.30</td>\n",
       "      <td>1840.75</td>\n",
       "      <td>0</td>\n",
       "      <td>22.722905</td>\n",
       "      <td>0.233044</td>\n",
       "      <td>0.892294</td>\n",
       "      <td>11.456983</td>\n",
       "      <td>5.626550</td>\n",
       "    </tr>\n",
       "    <tr>\n",
       "      <th>4</th>\n",
       "      <td>9237-HQITU</td>\n",
       "      <td>2</td>\n",
       "      <td>1</td>\n",
       "      <td>0</td>\n",
       "      <td>0</td>\n",
       "      <td>70.70</td>\n",
       "      <td>151.65</td>\n",
       "      <td>1</td>\n",
       "      <td>10.182711</td>\n",
       "      <td>-1.247719</td>\n",
       "      <td>0.281627</td>\n",
       "      <td>2.891812</td>\n",
       "      <td>14.079247</td>\n",
       "    </tr>\n",
       "    <tr>\n",
       "      <th>...</th>\n",
       "      <td>...</td>\n",
       "      <td>...</td>\n",
       "      <td>...</td>\n",
       "      <td>...</td>\n",
       "      <td>...</td>\n",
       "      <td>...</td>\n",
       "      <td>...</td>\n",
       "      <td>...</td>\n",
       "      <td>...</td>\n",
       "      <td>...</td>\n",
       "      <td>...</td>\n",
       "      <td>...</td>\n",
       "      <td>...</td>\n",
       "    </tr>\n",
       "    <tr>\n",
       "      <th>7038</th>\n",
       "      <td>6840-RESVB</td>\n",
       "      <td>24</td>\n",
       "      <td>1</td>\n",
       "      <td>1</td>\n",
       "      <td>1</td>\n",
       "      <td>84.80</td>\n",
       "      <td>1990.50</td>\n",
       "      <td>0</td>\n",
       "      <td>23.259217</td>\n",
       "      <td>0.296372</td>\n",
       "      <td>0.644930</td>\n",
       "      <td>10.047759</td>\n",
       "      <td>11.163563</td>\n",
       "    </tr>\n",
       "    <tr>\n",
       "      <th>7039</th>\n",
       "      <td>2234-XADUH</td>\n",
       "      <td>72</td>\n",
       "      <td>1</td>\n",
       "      <td>1</td>\n",
       "      <td>3</td>\n",
       "      <td>103.20</td>\n",
       "      <td>7362.90</td>\n",
       "      <td>0</td>\n",
       "      <td>34.010528</td>\n",
       "      <td>1.565901</td>\n",
       "      <td>0.952952</td>\n",
       "      <td>18.506248</td>\n",
       "      <td>11.590024</td>\n",
       "    </tr>\n",
       "    <tr>\n",
       "      <th>7040</th>\n",
       "      <td>4801-JZAZL</td>\n",
       "      <td>11</td>\n",
       "      <td>0</td>\n",
       "      <td>0</td>\n",
       "      <td>0</td>\n",
       "      <td>29.60</td>\n",
       "      <td>346.45</td>\n",
       "      <td>0</td>\n",
       "      <td>13.487726</td>\n",
       "      <td>-0.857458</td>\n",
       "      <td>0.567164</td>\n",
       "      <td>5.494217</td>\n",
       "      <td>5.061786</td>\n",
       "    </tr>\n",
       "    <tr>\n",
       "      <th>7041</th>\n",
       "      <td>8361-LTMKD</td>\n",
       "      <td>4</td>\n",
       "      <td>1</td>\n",
       "      <td>0</td>\n",
       "      <td>1</td>\n",
       "      <td>74.40</td>\n",
       "      <td>306.60</td>\n",
       "      <td>1</td>\n",
       "      <td>12.953998</td>\n",
       "      <td>-0.920482</td>\n",
       "      <td>0.349312</td>\n",
       "      <td>4.063157</td>\n",
       "      <td>12.994399</td>\n",
       "    </tr>\n",
       "    <tr>\n",
       "      <th>7042</th>\n",
       "      <td>3186-AJIEK</td>\n",
       "      <td>66</td>\n",
       "      <td>1</td>\n",
       "      <td>2</td>\n",
       "      <td>2</td>\n",
       "      <td>105.65</td>\n",
       "      <td>6844.50</td>\n",
       "      <td>0</td>\n",
       "      <td>33.311446</td>\n",
       "      <td>1.483352</td>\n",
       "      <td>0.919925</td>\n",
       "      <td>17.753037</td>\n",
       "      <td>11.963266</td>\n",
       "    </tr>\n",
       "  </tbody>\n",
       "</table>\n",
       "<p>7032 rows × 13 columns</p>\n",
       "</div>"
      ],
      "text/plain": [
       "      customerID  tenure  PhoneService  Contract  PaymentMethod  \\\n",
       "0     7590-VHVEG       1             0         0              0   \n",
       "1     5575-GNVDE      34             1         1              1   \n",
       "2     3668-QPYBK       2             1         0              1   \n",
       "3     7795-CFOCW      45             0         1              2   \n",
       "4     9237-HQITU       2             1         0              0   \n",
       "...          ...     ...           ...       ...            ...   \n",
       "7038  6840-RESVB      24             1         1              1   \n",
       "7039  2234-XADUH      72             1         1              3   \n",
       "7040  4801-JZAZL      11             0         0              0   \n",
       "7041  8361-LTMKD       4             1         0              1   \n",
       "7042  3186-AJIEK      66             1         2              2   \n",
       "\n",
       "      MonthlyCharges  TotalCharges  Churn    Box_Cox  TotalCharges_Transform  \\\n",
       "0              29.85         29.85      0   5.399287               -1.812552   \n",
       "1              56.95       1889.50      0  22.900956                0.254068   \n",
       "2              53.85        108.15      1   9.018523               -1.385188   \n",
       "3              42.30       1840.75      0  22.722905                0.233044   \n",
       "4              70.70        151.65      1  10.182711               -1.247719   \n",
       "...              ...           ...    ...        ...                     ...   \n",
       "7038           84.80       1990.50      0  23.259217                0.296372   \n",
       "7039          103.20       7362.90      0  34.010528                1.565901   \n",
       "7040           29.60        346.45      0  13.487726               -0.857458   \n",
       "7041           74.40        306.60      1  12.953998               -0.920482   \n",
       "7042          105.65       6844.50      0  33.311446                1.483352   \n",
       "\n",
       "      Tenuresqrt/TotalCharges_Ratio  TotalChargeslog/MonthlyCharges_Ratio  \\\n",
       "0                          0.294448                              1.608721   \n",
       "1                          0.772919                             10.753714   \n",
       "2                          0.301955                              2.608879   \n",
       "3                          0.892294                             11.456983   \n",
       "4                          0.281627                              2.891812   \n",
       "...                             ...                                   ...   \n",
       "7038                       0.644930                             10.047759   \n",
       "7039                       0.952952                             18.506248   \n",
       "7040                       0.567164                              5.494217   \n",
       "7041                       0.349312                              4.063157   \n",
       "7042                       0.919925                             17.753037   \n",
       "\n",
       "      MonthlyCharges/TotalCharges_Ratio  \n",
       "0                              8.789274  \n",
       "1                              7.548978  \n",
       "2                             11.497764  \n",
       "3                              5.626550  \n",
       "4                             14.079247  \n",
       "...                                 ...  \n",
       "7038                          11.163563  \n",
       "7039                          11.590024  \n",
       "7040                           5.061786  \n",
       "7041                          12.994399  \n",
       "7042                          11.963266  \n",
       "\n",
       "[7032 rows x 13 columns]"
      ]
     },
     "execution_count": 5,
     "metadata": {},
     "output_type": "execute_result"
    }
   ],
   "source": [
    "df"
   ]
  },
  {
   "cell_type": "code",
   "execution_count": 6,
   "id": "c9259520",
   "metadata": {},
   "outputs": [
    {
     "data": {
      "text/plain": [
       "customerID                              0\n",
       "tenure                                  0\n",
       "PhoneService                            0\n",
       "Contract                                0\n",
       "PaymentMethod                           0\n",
       "MonthlyCharges                          0\n",
       "TotalCharges                            0\n",
       "Churn                                   0\n",
       "Box_Cox                                 0\n",
       "TotalCharges_Transform                  0\n",
       "Tenuresqrt/TotalCharges_Ratio           0\n",
       "TotalChargeslog/MonthlyCharges_Ratio    0\n",
       "MonthlyCharges/TotalCharges_Ratio       0\n",
       "dtype: int64"
      ]
     },
     "execution_count": 6,
     "metadata": {},
     "output_type": "execute_result"
    }
   ],
   "source": [
    "df.isna().sum()"
   ]
  },
  {
   "cell_type": "code",
   "execution_count": 7,
   "id": "99999055",
   "metadata": {},
   "outputs": [],
   "source": [
    "X = df.drop([\"customerID\", \"Box_Cox\", \"TotalCharges\", \"Tenuresqrt/TotalCharges_Ratio\",\"TotalChargeslog/MonthlyCharges_Ratio\", \"MonthlyCharges/TotalCharges_Ratio\"], axis = \"columns\", inplace = True)"
   ]
  },
  {
   "cell_type": "code",
   "execution_count": 8,
   "id": "b46c246a",
   "metadata": {},
   "outputs": [],
   "source": [
    "#X = df.drop([\"customerID\", \"Box_Cox\"], axis = \"columns\", inplace = True)\n",
    "#Wanted to see what would happen if I left the ratios in. There really wansn't much of a difference so I decided to take them out."
   ]
  },
  {
   "cell_type": "code",
   "execution_count": 9,
   "id": "d3e63901",
   "metadata": {},
   "outputs": [
    {
     "data": {
      "text/html": [
       "<div>\n",
       "<style scoped>\n",
       "    .dataframe tbody tr th:only-of-type {\n",
       "        vertical-align: middle;\n",
       "    }\n",
       "\n",
       "    .dataframe tbody tr th {\n",
       "        vertical-align: top;\n",
       "    }\n",
       "\n",
       "    .dataframe thead th {\n",
       "        text-align: right;\n",
       "    }\n",
       "</style>\n",
       "<table border=\"1\" class=\"dataframe\">\n",
       "  <thead>\n",
       "    <tr style=\"text-align: right;\">\n",
       "      <th></th>\n",
       "      <th>tenure</th>\n",
       "      <th>PhoneService</th>\n",
       "      <th>Contract</th>\n",
       "      <th>PaymentMethod</th>\n",
       "      <th>MonthlyCharges</th>\n",
       "      <th>Churn</th>\n",
       "      <th>TotalCharges_Transform</th>\n",
       "    </tr>\n",
       "  </thead>\n",
       "  <tbody>\n",
       "    <tr>\n",
       "      <th>0</th>\n",
       "      <td>1</td>\n",
       "      <td>0</td>\n",
       "      <td>0</td>\n",
       "      <td>0</td>\n",
       "      <td>29.85</td>\n",
       "      <td>0</td>\n",
       "      <td>-1.812552</td>\n",
       "    </tr>\n",
       "    <tr>\n",
       "      <th>1</th>\n",
       "      <td>34</td>\n",
       "      <td>1</td>\n",
       "      <td>1</td>\n",
       "      <td>1</td>\n",
       "      <td>56.95</td>\n",
       "      <td>0</td>\n",
       "      <td>0.254068</td>\n",
       "    </tr>\n",
       "    <tr>\n",
       "      <th>2</th>\n",
       "      <td>2</td>\n",
       "      <td>1</td>\n",
       "      <td>0</td>\n",
       "      <td>1</td>\n",
       "      <td>53.85</td>\n",
       "      <td>1</td>\n",
       "      <td>-1.385188</td>\n",
       "    </tr>\n",
       "    <tr>\n",
       "      <th>3</th>\n",
       "      <td>45</td>\n",
       "      <td>0</td>\n",
       "      <td>1</td>\n",
       "      <td>2</td>\n",
       "      <td>42.30</td>\n",
       "      <td>0</td>\n",
       "      <td>0.233044</td>\n",
       "    </tr>\n",
       "    <tr>\n",
       "      <th>4</th>\n",
       "      <td>2</td>\n",
       "      <td>1</td>\n",
       "      <td>0</td>\n",
       "      <td>0</td>\n",
       "      <td>70.70</td>\n",
       "      <td>1</td>\n",
       "      <td>-1.247719</td>\n",
       "    </tr>\n",
       "    <tr>\n",
       "      <th>...</th>\n",
       "      <td>...</td>\n",
       "      <td>...</td>\n",
       "      <td>...</td>\n",
       "      <td>...</td>\n",
       "      <td>...</td>\n",
       "      <td>...</td>\n",
       "      <td>...</td>\n",
       "    </tr>\n",
       "    <tr>\n",
       "      <th>7038</th>\n",
       "      <td>24</td>\n",
       "      <td>1</td>\n",
       "      <td>1</td>\n",
       "      <td>1</td>\n",
       "      <td>84.80</td>\n",
       "      <td>0</td>\n",
       "      <td>0.296372</td>\n",
       "    </tr>\n",
       "    <tr>\n",
       "      <th>7039</th>\n",
       "      <td>72</td>\n",
       "      <td>1</td>\n",
       "      <td>1</td>\n",
       "      <td>3</td>\n",
       "      <td>103.20</td>\n",
       "      <td>0</td>\n",
       "      <td>1.565901</td>\n",
       "    </tr>\n",
       "    <tr>\n",
       "      <th>7040</th>\n",
       "      <td>11</td>\n",
       "      <td>0</td>\n",
       "      <td>0</td>\n",
       "      <td>0</td>\n",
       "      <td>29.60</td>\n",
       "      <td>0</td>\n",
       "      <td>-0.857458</td>\n",
       "    </tr>\n",
       "    <tr>\n",
       "      <th>7041</th>\n",
       "      <td>4</td>\n",
       "      <td>1</td>\n",
       "      <td>0</td>\n",
       "      <td>1</td>\n",
       "      <td>74.40</td>\n",
       "      <td>1</td>\n",
       "      <td>-0.920482</td>\n",
       "    </tr>\n",
       "    <tr>\n",
       "      <th>7042</th>\n",
       "      <td>66</td>\n",
       "      <td>1</td>\n",
       "      <td>2</td>\n",
       "      <td>2</td>\n",
       "      <td>105.65</td>\n",
       "      <td>0</td>\n",
       "      <td>1.483352</td>\n",
       "    </tr>\n",
       "  </tbody>\n",
       "</table>\n",
       "<p>7032 rows × 7 columns</p>\n",
       "</div>"
      ],
      "text/plain": [
       "      tenure  PhoneService  Contract  PaymentMethod  MonthlyCharges  Churn  \\\n",
       "0          1             0         0              0           29.85      0   \n",
       "1         34             1         1              1           56.95      0   \n",
       "2          2             1         0              1           53.85      1   \n",
       "3         45             0         1              2           42.30      0   \n",
       "4          2             1         0              0           70.70      1   \n",
       "...      ...           ...       ...            ...             ...    ...   \n",
       "7038      24             1         1              1           84.80      0   \n",
       "7039      72             1         1              3          103.20      0   \n",
       "7040      11             0         0              0           29.60      0   \n",
       "7041       4             1         0              1           74.40      1   \n",
       "7042      66             1         2              2          105.65      0   \n",
       "\n",
       "      TotalCharges_Transform  \n",
       "0                  -1.812552  \n",
       "1                   0.254068  \n",
       "2                  -1.385188  \n",
       "3                   0.233044  \n",
       "4                  -1.247719  \n",
       "...                      ...  \n",
       "7038                0.296372  \n",
       "7039                1.565901  \n",
       "7040               -0.857458  \n",
       "7041               -0.920482  \n",
       "7042                1.483352  \n",
       "\n",
       "[7032 rows x 7 columns]"
      ]
     },
     "execution_count": 9,
     "metadata": {},
     "output_type": "execute_result"
    }
   ],
   "source": [
    "df"
   ]
  },
  {
   "cell_type": "code",
   "execution_count": 10,
   "id": "b300768b",
   "metadata": {},
   "outputs": [],
   "source": [
    "features = df.drop('Churn', axis=1)\n",
    "targets = df['Churn']"
   ]
  },
  {
   "cell_type": "code",
   "execution_count": 11,
   "id": "1b7c7afa",
   "metadata": {},
   "outputs": [],
   "source": [
    "x_train, x_test, y_train, y_test = train_test_split(features, targets, stratify=targets, random_state=42)"
   ]
  },
  {
   "cell_type": "code",
   "execution_count": 12,
   "id": "44eb1c7c",
   "metadata": {},
   "outputs": [
    {
     "data": {
      "text/plain": [
       "LogisticRegression(max_iter=1000)"
      ]
     },
     "execution_count": 12,
     "metadata": {},
     "output_type": "execute_result"
    }
   ],
   "source": [
    "lr_model = LogisticRegression(max_iter=1000)\n",
    "lr_model.fit(x_train, y_train)"
   ]
  },
  {
   "cell_type": "code",
   "execution_count": 13,
   "id": "f2666043",
   "metadata": {},
   "outputs": [
    {
     "name": "stdout",
     "output_type": "stream",
     "text": [
      "0.800910125142207\n",
      "0.7906712172923777\n"
     ]
    }
   ],
   "source": [
    "print(lr_model.score(x_train, y_train))\n",
    "print(lr_model.score(x_test, y_test))"
   ]
  },
  {
   "cell_type": "code",
   "execution_count": 14,
   "id": "65d60cb3",
   "metadata": {},
   "outputs": [
    {
     "data": {
      "text/plain": [
       "array([[0.38103758, 0.61896242],\n",
       "       [0.97761521, 0.02238479],\n",
       "       [0.57883794, 0.42116206],\n",
       "       [0.3020147 , 0.6979853 ],\n",
       "       [0.88139614, 0.11860386]])"
      ]
     },
     "execution_count": 14,
     "metadata": {},
     "output_type": "execute_result"
    }
   ],
   "source": [
    "lr_model.predict_proba(x_test)[:5]"
   ]
  },
  {
   "cell_type": "code",
   "execution_count": 15,
   "id": "6fd1e80a",
   "metadata": {},
   "outputs": [
    {
     "data": {
      "text/plain": [
       "array([1, 0, 0, 1, 0])"
      ]
     },
     "execution_count": 15,
     "metadata": {},
     "output_type": "execute_result"
    }
   ],
   "source": [
    "lr_model.predict(x_test)[:5]"
   ]
  },
  {
   "cell_type": "code",
   "execution_count": 16,
   "id": "3b2b5f51",
   "metadata": {},
   "outputs": [
    {
     "data": {
      "text/plain": [
       "<AxesSubplot:xlabel='predicted_probability', ylabel='Density'>"
      ]
     },
     "execution_count": 16,
     "metadata": {},
     "output_type": "execute_result"
    },
    {
     "data": {
      "image/png": "[encoded data removed]",
      "text/plain": [
       "<Figure size 432x288 with 1 Axes>"
      ]
     },
     "metadata": {
      "needs_background": "light"
     },
     "output_type": "display_data"
    }
   ],
   "source": [
    "import seaborn as sns\n",
    "probabilities = lr_model.predict_proba(x_test)[:, 1]\n",
    "prob_df = pd.DataFrame(data={'predicted_probability': probabilities, 'target': y_test})\n",
    "sns.histplot(data=prob_df, x='predicted_probability', hue='target', stat='density', common_norm=False)"
   ]
  },
  {
   "cell_type": "code",
   "execution_count": 17,
   "id": "801616b5",
   "metadata": {},
   "outputs": [
    {
     "data": {
      "text/plain": [
       "array([1, 0, 1, 1, 0])"
      ]
     },
     "execution_count": 17,
     "metadata": {},
     "output_type": "execute_result"
    }
   ],
   "source": [
    "(lr_model.predict_proba(x_test)[:5, 1] > 0.3).astype('int')"
   ]
  },
  {
   "cell_type": "code",
   "execution_count": 18,
   "id": "77fc81d8",
   "metadata": {},
   "outputs": [],
   "source": [
    "predictions_lower_thresh = (lr_model.predict_proba(x_test)[:, 1] > 0.3).astype('int')"
   ]
  },
  {
   "cell_type": "code",
   "execution_count": 19,
   "id": "3aa0fd62",
   "metadata": {},
   "outputs": [
    {
     "name": "stdout",
     "output_type": "stream",
     "text": [
      "0.7525597269624573\n",
      "0.7516059957173448\n"
     ]
    }
   ],
   "source": [
    "from sklearn.metrics import accuracy_score, confusion_matrix\n",
    "\n",
    "print(accuracy_score(y_test, predictions_lower_thresh))\n",
    "tn, fp, fn, tp  = confusion_matrix(y_test, predictions_lower_thresh).flatten()\n",
    "print(tp / (tp + fn))"
   ]
  },
  {
   "cell_type": "code",
   "execution_count": 20,
   "id": "4962b4fb",
   "metadata": {},
   "outputs": [
    {
     "data": {
      "text/plain": [
       "<sklearn.metrics._plot.confusion_matrix.ConfusionMatrixDisplay at 0x7fec21ac7e20>"
      ]
     },
     "execution_count": 20,
     "metadata": {},
     "output_type": "execute_result"
    },
    {
     "data": {
      "image/png": "[encoded data removed]",
      "text/plain": [
       "<Figure size 432x288 with 2 Axes>"
      ]
     },
     "metadata": {
      "needs_background": "light"
     },
     "output_type": "display_data"
    }
   ],
   "source": [
    "plot_confusion_matrix(lr_model, x_test, y_test, cmap='Blues')"
   ]
  },
  {
   "cell_type": "code",
   "execution_count": 21,
   "id": "15f9d232",
   "metadata": {},
   "outputs": [
    {
     "name": "stdout",
     "output_type": "stream",
     "text": [
      "Index(['tenure', 'PhoneService', 'Contract', 'PaymentMethod', 'MonthlyCharges',\n",
      "       'TotalCharges_Transform'],\n",
      "      dtype='object')\n",
      "[[ 0.01942835 -0.9886039  -1.12299065 -0.16105998  0.05130181 -1.4534574 ]]\n"
     ]
    }
   ],
   "source": [
    "print(features.columns)\n",
    "print(lr_model.coef_)"
   ]
  },
  {
   "cell_type": "code",
   "execution_count": 22,
   "id": "439d918d",
   "metadata": {},
   "outputs": [
    {
     "data": {
      "text/plain": [
       "<AxesSubplot:>"
      ]
     },
     "execution_count": 22,
     "metadata": {},
     "output_type": "execute_result"
    },
    {
     "data": {
      "image/png": "[encoded data removed]",
      "text/plain": [
       "<Figure size 432x288 with 1 Axes>"
      ]
     },
     "metadata": {
      "needs_background": "light"
     },
     "output_type": "display_data"
    }
   ],
   "source": [
    "coef_df = pd.DataFrame(data=lr_model.coef_, columns=features.columns)\n",
    "coef_df.T.sort_values(by=0).plot.bar(legend=False)"
   ]
  },
  {
   "cell_type": "markdown",
   "id": "eda84964",
   "metadata": {},
   "source": [
    "To begin I ended up cleaning my data by dropping some variables I didnt need. [\"customerID\", \"Box_Cox\", \"TotalCharges\", \"Tenuresqrt/TotalCharges_Ratio\",\"TotalChargeslog/MonthlyCharges_Ratio\", \"MonthlyCharges/TotalCharges_Ratio\"]. I decided to drop these because they didnt really change anything to my end result and they werent useful (I ran everything with and without to see the changes). TotalCharges_Transform was a better fit so I decided to keep that instead of total_charges. After I dropped the variables I let my regression run. My train and test set were very similar with 80% and 79% respectively. I then used the prediction of probabilities chart to see where I should move my threshold. A threshold of 0.3 gave me an accuracy and TPR of 75%. I figured this is the best threshold to have as anything less and my regression would have less accuracy and anything more and I'd have less of a TPR. While I do see the benefit of having more of a TPR over accuracy I would have to drop my accuracy too much before my TPR is noticeably better. If youre looking for churn it would be better to know if a customer may churn even if its not accurate. \n",
    "\n",
    "In the pharmacy one of the metrics we look at for store performance is return to stock. Return to stock happens when we return a ready prescription back to our shelf. This usually happens if the prescription hasnt been picked up for 10-14 days. ML could be used in a buisness setting to analyze return to stock by finding what customers are not likely to pick up their medicaitons on time. We may be able to look at factors like age, medication type (maintenance vs short course), cost, insurance type, return to stock history, etc. If a medication has a high likelyhood of being returned we may be able to contact the patient and let them know we will return it so they can come in before we do.   "
   ]
  }
 ],
 "metadata": {
  "kernelspec": {
   "display_name": "Python 3",
   "language": "python",
   "name": "python3"
  },
  "language_info": {
   "codemirror_mode": {
    "name": "ipython",
    "version": 3
   },
   "file_extension": ".py",
   "mimetype": "text/x-python",
   "name": "python",
   "nbconvert_exporter": "python",
   "pygments_lexer": "ipython3",
   "version": "3.8.8"
  }
 },
 "nbformat": 4,
 "nbformat_minor": 5
}
