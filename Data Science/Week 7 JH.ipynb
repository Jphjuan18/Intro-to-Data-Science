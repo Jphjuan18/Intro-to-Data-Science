{
 "cells": [
  {
   "cell_type": "code",
   "execution_count": 1,
   "id": "7ed3f277",
   "metadata": {},
   "outputs": [],
   "source": [
    "#conda install praw -y"
   ]
  },
  {
   "cell_type": "code",
   "execution_count": 2,
   "id": "a2b00642",
   "metadata": {},
   "outputs": [],
   "source": [
    "#pip install praw"
   ]
  },
  {
   "cell_type": "code",
   "execution_count": 3,
   "id": "8ea53490",
   "metadata": {},
   "outputs": [],
   "source": [
    "#conda install -c conda-forge nltk -y"
   ]
  },
  {
   "cell_type": "code",
   "execution_count": 1,
   "id": "1176d295",
   "metadata": {},
   "outputs": [],
   "source": [
    "import praw\n",
    "import pandas as pd\n",
    "\n",
    "import credentials"
   ]
  },
  {
   "cell_type": "code",
   "execution_count": 5,
   "id": "ec28a096",
   "metadata": {},
   "outputs": [],
   "source": [
    "#pip install credentials"
   ]
  },
  {
   "cell_type": "code",
   "execution_count": 7,
   "id": "6b0c5319",
   "metadata": {},
   "outputs": [],
   "source": [
    "#reddit = praw.Reddit(client_id=credentials.client_id,\n",
    "                     #client_secret=credentials.client_secret,\n",
    "                    # user_agent=credentials.user_agent)"
   ]
  },
  {
   "cell_type": "code",
   "execution_count": 2,
   "id": "1b528ec5",
   "metadata": {},
   "outputs": [],
   "source": [
    "import praw\n",
    "\n",
    "reddit = praw.Reddit(\n",
    "    client_id=\"ZhzPulxOcF26njmIO1vEng\",\n",
    "    client_secret=\"d8q6xXXui9cIIxleLl-ri7pQwCBfSw\",\n",
    "    user_agent=\"my user agent\",\n",
    ")"
   ]
  },
  {
   "cell_type": "code",
   "execution_count": 3,
   "id": "f9bb3ccb",
   "metadata": {},
   "outputs": [],
   "source": [
    "subreddit = reddit.subreddit('wallstreetbets').hot(limit=10)"
   ]
  },
  {
   "cell_type": "code",
   "execution_count": 4,
   "id": "b52c6de0",
   "metadata": {},
   "outputs": [
    {
     "name": "stdout",
     "output_type": "stream",
     "text": [
      "What Are Your Moves Tomorrow, February 09, 2022 255\n",
      "Most Anticipated Earnings Releases for the week beginning February 7th, 2022 1496\n",
      "Charlie Munger is doubling down on $BABA saying it’s a long term 5 year play. Bruh you’re 98 years old, there’s a high chance you’ll be dead this year… 6345\n",
      "Facebook's been fired from the FAANG group. 3979\n",
      "🔮WallStreetBets Predictions Tournament for February 2022🔮 17811\n",
      "Facebook aka Meta, I don't like this stock 3054\n",
      "Wish me luck retards 10477\n",
      "SEC: \"If you place a retail market order, 90-95% do not go to lit exchanges. They go to wholesalers\" 1501\n",
      "Please help me understand this insanity 2321\n",
      "Who is bankrolling you retards? 169\n"
     ]
    }
   ],
   "source": [
    "for post in subreddit:\n",
    "    print(post.title, post.score)"
   ]
  },
  {
   "cell_type": "code",
   "execution_count": 5,
   "id": "251ffb7e",
   "metadata": {},
   "outputs": [],
   "source": [
    "reddit_data = {'title': [],\n",
    "              'link': [],\n",
    "              'author': [],\n",
    "              'n_comments': [],\n",
    "              'score': [],\n",
    "              'text': []}\n",
    "\n",
    "\n",
    "subreddit = reddit.subreddit('wallstreetbets').hot(limit=None)\n",
    "\n",
    "for post in list(subreddit):\n",
    "    reddit_data['title'].append(post.title)\n",
    "    reddit_data['link'].append(post.permalink)\n",
    "    if post.author is None:\n",
    "        reddit_data['author'].append('')\n",
    "    else:\n",
    "        reddit_data['author'].append(post.author.name)\n",
    "    \n",
    "    reddit_data['n_comments'].append(post.num_comments)\n",
    "    reddit_data['score'].append(post.score)\n",
    "    reddit_data['text'].append(post.selftext)"
   ]
  },
  {
   "cell_type": "code",
   "execution_count": 6,
   "id": "3755b862",
   "metadata": {},
   "outputs": [],
   "source": [
    "wb_df = pd.DataFrame(reddit_data)"
   ]
  },
  {
   "cell_type": "code",
   "execution_count": 26,
   "id": "e101469f",
   "metadata": {},
   "outputs": [],
   "source": [
    "#wb_df"
   ]
  },
  {
   "cell_type": "code",
   "execution_count": 31,
   "id": "dedb0eb5",
   "metadata": {},
   "outputs": [],
   "source": [
    "import sqlite3\n",
    "con = sqlite3.connect('sofi.db')"
   ]
  },
  {
   "cell_type": "code",
   "execution_count": 32,
   "id": "9b8d8a6d",
   "metadata": {},
   "outputs": [],
   "source": [
    "wb_df.to_sql('posts', con, if_exists='replace', index=False)"
   ]
  },
  {
   "cell_type": "code",
   "execution_count": 30,
   "id": "ffdddf78",
   "metadata": {},
   "outputs": [
    {
     "ename": "OperationalError",
     "evalue": "unable to open database file",
     "output_type": "error",
     "traceback": [
      "\u001b[0;31m---------------------------------------------------------------------------\u001b[0m",
      "\u001b[0;31mOperationalError\u001b[0m                          Traceback (most recent call last)",
      "\u001b[0;32m/var/folders/by/2b2gkbxs5_5fgxc6m1r9j9pr0000gn/T/ipykernel_16585/2512991093.py\u001b[0m in \u001b[0;36m<module>\u001b[0;34m\u001b[0m\n\u001b[1;32m      1\u001b[0m \u001b[0;32mimport\u001b[0m \u001b[0msqlite3\u001b[0m\u001b[0;34m\u001b[0m\u001b[0;34m\u001b[0m\u001b[0m\n\u001b[1;32m      2\u001b[0m \u001b[0;34m\u001b[0m\u001b[0m\n\u001b[0;32m----> 3\u001b[0;31m \u001b[0mcon\u001b[0m \u001b[0;34m=\u001b[0m \u001b[0msqlite3\u001b[0m\u001b[0;34m.\u001b[0m\u001b[0mconnect\u001b[0m\u001b[0;34m(\u001b[0m\u001b[0;34m\"data/wb_reddits.sqlite\"\u001b[0m\u001b[0;34m)\u001b[0m\u001b[0;34m\u001b[0m\u001b[0;34m\u001b[0m\u001b[0m\n\u001b[0m\u001b[1;32m      4\u001b[0m \u001b[0mwb_df\u001b[0m\u001b[0;34m.\u001b[0m\u001b[0mto_sql\u001b[0m\u001b[0;34m(\u001b[0m\u001b[0;34m'posts'\u001b[0m\u001b[0;34m,\u001b[0m \u001b[0mcon\u001b[0m\u001b[0;34m,\u001b[0m \u001b[0mif_exists\u001b[0m\u001b[0;34m=\u001b[0m\u001b[0;34m'replace'\u001b[0m\u001b[0;34m,\u001b[0m \u001b[0mindex\u001b[0m\u001b[0;34m=\u001b[0m\u001b[0;32mFalse\u001b[0m\u001b[0;34m)\u001b[0m\u001b[0;34m\u001b[0m\u001b[0;34m\u001b[0m\u001b[0m\n",
      "\u001b[0;31mOperationalError\u001b[0m: unable to open database file"
     ]
    }
   ],
   "source": [
    "#import sqlite3\n",
    "\n",
    "#con = sqlite3.connect(\"data/wb_reddits.sqlite\")\n",
    "#wb_df.to_sql('posts', con, if_exists='replace', index=False)"
   ]
  },
  {
   "cell_type": "code",
   "execution_count": 33,
   "id": "3958c4b7",
   "metadata": {},
   "outputs": [],
   "source": [
    "wb_df_check = pd.read_sql_query('SELECT * FROM posts;', con)\n",
    "# it's best to close the connection when finished\n",
    "con.close()\n",
    "#wb_df_check"
   ]
  },
  {
   "cell_type": "code",
   "execution_count": 34,
   "id": "5899afdf",
   "metadata": {},
   "outputs": [
    {
     "data": {
      "text/html": [
       "<div>\n",
       "<style scoped>\n",
       "    .dataframe tbody tr th:only-of-type {\n",
       "        vertical-align: middle;\n",
       "    }\n",
       "\n",
       "    .dataframe tbody tr th {\n",
       "        vertical-align: top;\n",
       "    }\n",
       "\n",
       "    .dataframe thead th {\n",
       "        text-align: right;\n",
       "    }\n",
       "</style>\n",
       "<table border=\"1\" class=\"dataframe\">\n",
       "  <thead>\n",
       "    <tr style=\"text-align: right;\">\n",
       "      <th></th>\n",
       "      <th>title</th>\n",
       "      <th>link</th>\n",
       "      <th>author</th>\n",
       "      <th>n_comments</th>\n",
       "      <th>score</th>\n",
       "      <th>text</th>\n",
       "    </tr>\n",
       "  </thead>\n",
       "  <tbody>\n",
       "    <tr>\n",
       "      <th>2</th>\n",
       "      <td>🔮WallStreetBets Predictions Tournament for Jan...</td>\n",
       "      <td>/r/wallstreetbets/comments/s1cllr/wallstreetbe...</td>\n",
       "      <td>OPINION_IS_UNPOPULAR</td>\n",
       "      <td>402</td>\n",
       "      <td>64972</td>\n",
       "      <td></td>\n",
       "    </tr>\n",
       "    <tr>\n",
       "      <th>15</th>\n",
       "      <td>Get a job at the company which you know is goi...</td>\n",
       "      <td>/r/wallstreetbets/comments/s7rwkm/get_a_job_at...</td>\n",
       "      <td>Zarnor</td>\n",
       "      <td>1068</td>\n",
       "      <td>47666</td>\n",
       "      <td></td>\n",
       "    </tr>\n",
       "    <tr>\n",
       "      <th>70</th>\n",
       "      <td>And just like that you Activision bagholders h...</td>\n",
       "      <td>/r/wallstreetbets/comments/s7e361/and_just_lik...</td>\n",
       "      <td>NNT888</td>\n",
       "      <td>647</td>\n",
       "      <td>21325</td>\n",
       "      <td></td>\n",
       "    </tr>\n",
       "    <tr>\n",
       "      <th>121</th>\n",
       "      <td>If this isn't the way, I don't know what is</td>\n",
       "      <td>/r/wallstreetbets/comments/s748b6/if_this_isnt...</td>\n",
       "      <td>keenfeed</td>\n",
       "      <td>590</td>\n",
       "      <td>33241</td>\n",
       "      <td></td>\n",
       "    </tr>\n",
       "    <tr>\n",
       "      <th>559</th>\n",
       "      <td>Me after taking wsb advice</td>\n",
       "      <td>/r/wallstreetbets/comments/s5bfna/me_after_tak...</td>\n",
       "      <td>Avikm289</td>\n",
       "      <td>324</td>\n",
       "      <td>37533</td>\n",
       "      <td></td>\n",
       "    </tr>\n",
       "  </tbody>\n",
       "</table>\n",
       "</div>"
      ],
      "text/plain": [
       "                                                 title  \\\n",
       "2    🔮WallStreetBets Predictions Tournament for Jan...   \n",
       "15   Get a job at the company which you know is goi...   \n",
       "70   And just like that you Activision bagholders h...   \n",
       "121        If this isn't the way, I don't know what is   \n",
       "559                         Me after taking wsb advice   \n",
       "\n",
       "                                                  link                author  \\\n",
       "2    /r/wallstreetbets/comments/s1cllr/wallstreetbe...  OPINION_IS_UNPOPULAR   \n",
       "15   /r/wallstreetbets/comments/s7rwkm/get_a_job_at...                Zarnor   \n",
       "70   /r/wallstreetbets/comments/s7e361/and_just_lik...                NNT888   \n",
       "121  /r/wallstreetbets/comments/s748b6/if_this_isnt...              keenfeed   \n",
       "559  /r/wallstreetbets/comments/s5bfna/me_after_tak...              Avikm289   \n",
       "\n",
       "     n_comments  score text  \n",
       "2           402  64972       \n",
       "15         1068  47666       \n",
       "70          647  21325       \n",
       "121         590  33241       \n",
       "559         324  37533       "
      ]
     },
     "execution_count": 34,
     "metadata": {},
     "output_type": "execute_result"
    }
   ],
   "source": [
    "wb_df[wb_df['score'] > 20000]"
   ]
  },
  {
   "cell_type": "code",
   "execution_count": 35,
   "id": "bf4346de",
   "metadata": {},
   "outputs": [
    {
     "data": {
      "text/plain": [
       "['/r/wallstreetbets/comments/s1cllr/wallstreetbets_predictions_tournament_for_january/',\n",
       " '/r/wallstreetbets/comments/s89j00/buffett_wisdom/',\n",
       " '/r/wallstreetbets/comments/s83vrd/i_want_that_pen/',\n",
       " '/r/wallstreetbets/comments/s7rwkm/get_a_job_at_the_company_which_you_know_is_going/',\n",
       " '/r/wallstreetbets/comments/s7e361/and_just_like_that_you_activision_bagholders_had/',\n",
       " '/r/wallstreetbets/comments/s748b6/if_this_isnt_the_way_i_dont_know_what_is/',\n",
       " '/r/wallstreetbets/comments/s735xy/unpopular_opinion_gme_is_headed_for_50_before_250/',\n",
       " '/r/wallstreetbets/comments/s6wknj/classic_chamath_oldie_but_goodie/',\n",
       " '/r/wallstreetbets/comments/s6nx5b/wifes_boyfriend/',\n",
       " '/r/wallstreetbets/comments/s6419d/mr_incredible_invests_in_stocks/',\n",
       " '/r/wallstreetbets/comments/s5bfna/me_after_taking_wsb_advice/']"
      ]
     },
     "execution_count": 35,
     "metadata": {},
     "output_type": "execute_result"
    }
   ],
   "source": [
    "wb_df[wb_df['score'] > 10000]['link'].to_list()"
   ]
  },
  {
   "cell_type": "code",
   "execution_count": 36,
   "id": "136e5c9b",
   "metadata": {},
   "outputs": [
    {
     "name": "stdout",
     "output_type": "stream",
     "text": [
      "<class 'pandas.core.frame.DataFrame'>\n",
      "RangeIndex: 602 entries, 0 to 601\n",
      "Data columns (total 6 columns):\n",
      " #   Column      Non-Null Count  Dtype \n",
      "---  ------      --------------  ----- \n",
      " 0   title       602 non-null    object\n",
      " 1   link        602 non-null    object\n",
      " 2   author      602 non-null    object\n",
      " 3   n_comments  602 non-null    int64 \n",
      " 4   score       602 non-null    int64 \n",
      " 5   text        602 non-null    object\n",
      "dtypes: int64(2), object(4)\n",
      "memory usage: 28.3+ KB\n"
     ]
    }
   ],
   "source": [
    "wb_df.info()"
   ]
  },
  {
   "cell_type": "code",
   "execution_count": 37,
   "id": "d614fe68",
   "metadata": {},
   "outputs": [],
   "source": [
    "import matplotlib.pyplot as plt"
   ]
  },
  {
   "cell_type": "code",
   "execution_count": 38,
   "id": "f0e76c70",
   "metadata": {},
   "outputs": [
    {
     "data": {
      "text/plain": [
       "<AxesSubplot:xlabel='score', ylabel='n_comments'>"
      ]
     },
     "execution_count": 38,
     "metadata": {},
     "output_type": "execute_result"
    },
    {
     "data": {
      "image/png": "[encoded data removed]",
      "text/plain": [
       "<Figure size 432x288 with 1 Axes>"
      ]
     },
     "metadata": {
      "needs_background": "light"
     },
     "output_type": "display_data"
    }
   ],
   "source": [
    "wb_df.plot.scatter(x='score', y='n_comments')"
   ]
  },
  {
   "cell_type": "code",
   "execution_count": 39,
   "id": "1a3d95e1",
   "metadata": {},
   "outputs": [
    {
     "data": {
      "text/plain": [
       "<AxesSubplot:>"
      ]
     },
     "execution_count": 39,
     "metadata": {},
     "output_type": "execute_result"
    },
    {
     "data": {
      "image/png": "[encoded data removed]",
      "text/plain": [
       "<Figure size 432x288 with 1 Axes>"
      ]
     },
     "metadata": {
      "needs_background": "light"
     },
     "output_type": "display_data"
    }
   ],
   "source": [
    "wb_df['author'].value_counts()[:10].plot.bar()"
   ]
  },
  {
   "cell_type": "code",
   "execution_count": 40,
   "id": "1a64e166",
   "metadata": {},
   "outputs": [
    {
     "data": {
      "text/plain": [
       "<AxesSubplot:>"
      ]
     },
     "execution_count": 40,
     "metadata": {},
     "output_type": "execute_result"
    },
    {
     "data": {
      "image/png": "[encoded data removed]",
      "text/plain": [
       "<Figure size 432x288 with 1 Axes>"
      ]
     },
     "metadata": {
      "needs_background": "light"
     },
     "output_type": "display_data"
    }
   ],
   "source": [
    "wb_df[wb_df['author'] == 'Bookish_Tiger'].plot()"
   ]
  },
  {
   "cell_type": "code",
   "execution_count": 41,
   "id": "8f7ce0cc",
   "metadata": {},
   "outputs": [
    {
     "data": {
      "text/plain": [
       "<AxesSubplot:>"
      ]
     },
     "execution_count": 41,
     "metadata": {},
     "output_type": "execute_result"
    },
    {
     "data": {
      "image/png": "[encoded data removed]",
      "text/plain": [
       "<Figure size 432x288 with 1 Axes>"
      ]
     },
     "metadata": {
      "needs_background": "light"
     },
     "output_type": "display_data"
    }
   ],
   "source": [
    "wb_df[wb_df['author'] == 'OPINION_IS_UNPOPULAR'].plot()"
   ]
  },
  {
   "cell_type": "code",
   "execution_count": 42,
   "id": "b01340d4",
   "metadata": {},
   "outputs": [
    {
     "data": {
      "text/plain": [
       "[('the', 159), ('to', 127), ('I', 103), ('a', 99), ('is', 86)]"
      ]
     },
     "execution_count": 42,
     "metadata": {},
     "output_type": "execute_result"
    }
   ],
   "source": [
    "import nltk\n",
    "\n",
    "fd = nltk.FreqDist(' '.join(wb_df['title']).split())\n",
    "\n",
    "fd.most_common(5)"
   ]
  },
  {
   "cell_type": "code",
   "execution_count": 43,
   "id": "02c70689",
   "metadata": {},
   "outputs": [],
   "source": [
    "#nltk.download('stopwords')"
   ]
  },
  {
   "cell_type": "code",
   "execution_count": 44,
   "id": "14a70467",
   "metadata": {},
   "outputs": [],
   "source": [
    "from nltk.corpus import stopwords\n",
    "\n",
    "stops = stopwords.words('english')\n",
    "stops = set(stops) | set(['-', '2021','|','get','loss','$$','$$)'])"
   ]
  },
  {
   "cell_type": "code",
   "execution_count": 45,
   "id": "77d16bcc",
   "metadata": {},
   "outputs": [],
   "source": [
    "words = ' '.join(wb_df['title']).lower().split()\n",
    "cleaned_words = [w for w in words if w not in set(stops)]"
   ]
  },
  {
   "cell_type": "code",
   "execution_count": 46,
   "id": "87858779",
   "metadata": {},
   "outputs": [],
   "source": [
    "stonks = []\n",
    "for stocks in cleaned_words:\n",
    "    if '$' in stocks:\n",
    "        stonks.append(stocks)"
   ]
  },
  {
   "cell_type": "code",
   "execution_count": 47,
   "id": "b382862f",
   "metadata": {},
   "outputs": [],
   "source": [
    "stonks_num = []\n",
    "stonks_num = [x for x in stonks if not any(x1.isdigit() for x1 in x)]    "
   ]
  },
  {
   "cell_type": "code",
   "execution_count": 48,
   "id": "75b78012",
   "metadata": {},
   "outputs": [],
   "source": [
    "stonks_f = []\n",
    "for stock in stonks_num:\n",
    "    stonks_f.append(stock.replace('$', ''))"
   ]
  },
  {
   "cell_type": "code",
   "execution_count": 49,
   "id": "2fc4c35a",
   "metadata": {},
   "outputs": [],
   "source": [
    "clean_stonks = nltk.FreqDist(stonks_f)"
   ]
  },
  {
   "cell_type": "code",
   "execution_count": 50,
   "id": "de27b3ea",
   "metadata": {},
   "outputs": [
    {
     "data": {
      "text/plain": [
       "[('atvi', 8),\n",
       " ('spy', 4),\n",
       " ('msft', 4),\n",
       " ('gme', 3),\n",
       " ('sofi', 2),\n",
       " ('hood', 2),\n",
       " ('dkng', 2),\n",
       " ('qqq', 2),\n",
       " ('(ag)', 1),\n",
       " ('corz', 1),\n",
       " ('rklb', 1),\n",
       " ('sony,', 1),\n",
       " ('clov', 1),\n",
       " ('bbig', 1),\n",
       " ('spce', 1),\n",
       " ('lcid', 1),\n",
       " ('coin', 1),\n",
       " ('gme?', 1),\n",
       " ('intc', 1),\n",
       " ('tsla', 1)]"
      ]
     },
     "execution_count": 50,
     "metadata": {},
     "output_type": "execute_result"
    }
   ],
   "source": [
    "clean_stonks.most_common(20)"
   ]
  },
  {
   "cell_type": "code",
   "execution_count": 51,
   "id": "9618daf1",
   "metadata": {},
   "outputs": [
    {
     "data": {
      "image/png": "[encoded data removed]",
      "text/plain": [
       "<Figure size 720x360 with 1 Axes>"
      ]
     },
     "metadata": {
      "needs_background": "light"
     },
     "output_type": "display_data"
    },
    {
     "data": {
      "text/plain": [
       "<AxesSubplot:xlabel='Samples', ylabel='Counts'>"
      ]
     },
     "execution_count": 51,
     "metadata": {},
     "output_type": "execute_result"
    }
   ],
   "source": [
    "plt.figure(figsize=(10, 5))\n",
    "clean_stonks.plot(20)"
   ]
  },
  {
   "cell_type": "markdown",
   "id": "0f703c0f",
   "metadata": {},
   "source": [
    "I analyzed a subreddit called Wallstreetbets. It was mentioned on the news for causing the AMC and Gamestop short squeeze early this year. I created a few plots analyzing the top authors on their score and number of comments. The author 'OPINION_IS_UNPOPULAR’ had a lot of comments with a low score and the author 'Bookish_Tiger' had a high score with less comments. I also looked at the top mentioned stocks. To do this I created a filter to sort out comments that included a $ and removed any strings that contained numbers. When talking about a stock it is common to use a $ before writing the stocks’ symbol. I found WISH;18 was the most mentioned stock followed by SDC;11 (Smile Direct Club), CLOV;5 (Clover Health) and TSLA;3 (Tesla). Overall this analysis gave me better insight into what stocks the Wallstreetbets community is talking about and which authors are more highly rated."
   ]
  }
 ],
 "metadata": {
  "kernelspec": {
   "display_name": "Python 3 (ipykernel)",
   "language": "python",
   "name": "python3"
  },
  "language_info": {
   "codemirror_mode": {
    "name": "ipython",
    "version": 3
   },
   "file_extension": ".py",
   "mimetype": "text/x-python",
   "name": "python",
   "nbconvert_exporter": "python",
   "pygments_lexer": "ipython3",
   "version": "3.9.7"
  }
 },
 "nbformat": 4,
 "nbformat_minor": 5
}
