{
 "cells": [
  {
   "cell_type": "code",
   "execution_count": 1,
   "id": "310133e0",
   "metadata": {},
   "outputs": [],
   "source": [
    "#conda install -c conda-forge textblob vadersentiment -y"
   ]
  },
  {
   "cell_type": "code",
   "execution_count": 2,
   "id": "be27a6c0",
   "metadata": {},
   "outputs": [
    {
     "ename": "OperationalError",
     "evalue": "unable to open database file",
     "output_type": "error",
     "traceback": [
      "\u001b[0;31m---------------------------------------------------------------------------\u001b[0m",
      "\u001b[0;31mOperationalError\u001b[0m                          Traceback (most recent call last)",
      "\u001b[0;32m/var/folders/by/2b2gkbxs5_5fgxc6m1r9j9pr0000gn/T/ipykernel_16451/1041066976.py\u001b[0m in \u001b[0;36m<module>\u001b[0;34m\u001b[0m\n\u001b[1;32m      2\u001b[0m \u001b[0;32mimport\u001b[0m \u001b[0mpandas\u001b[0m \u001b[0;32mas\u001b[0m \u001b[0mpd\u001b[0m\u001b[0;34m\u001b[0m\u001b[0;34m\u001b[0m\u001b[0m\n\u001b[1;32m      3\u001b[0m \u001b[0;34m\u001b[0m\u001b[0m\n\u001b[0;32m----> 4\u001b[0;31m \u001b[0mcon\u001b[0m \u001b[0;34m=\u001b[0m \u001b[0msqlite3\u001b[0m\u001b[0;34m.\u001b[0m\u001b[0mconnect\u001b[0m\u001b[0;34m(\u001b[0m\u001b[0;34m'data/wb_reddit.sqlite'\u001b[0m\u001b[0;34m)\u001b[0m\u001b[0;34m\u001b[0m\u001b[0;34m\u001b[0m\u001b[0m\n\u001b[0m\u001b[1;32m      5\u001b[0m \u001b[0mdf\u001b[0m \u001b[0;34m=\u001b[0m \u001b[0mpd\u001b[0m\u001b[0;34m.\u001b[0m\u001b[0mread_sql_query\u001b[0m\u001b[0;34m(\u001b[0m\u001b[0;34m'SELECT * from posts;'\u001b[0m\u001b[0;34m,\u001b[0m \u001b[0mcon\u001b[0m\u001b[0;34m)\u001b[0m\u001b[0;34m\u001b[0m\u001b[0;34m\u001b[0m\u001b[0m\n\u001b[1;32m      6\u001b[0m \u001b[0mcon\u001b[0m\u001b[0;34m.\u001b[0m\u001b[0mclose\u001b[0m\u001b[0;34m(\u001b[0m\u001b[0;34m)\u001b[0m\u001b[0;34m\u001b[0m\u001b[0;34m\u001b[0m\u001b[0m\n",
      "\u001b[0;31mOperationalError\u001b[0m: unable to open database file"
     ]
    }
   ],
   "source": [
    "import sqlite3\n",
    "import pandas as pd\n",
    "\n",
    "con = sqlite3.connect('data/wb_reddit.sqlite')\n",
    "df = pd.read_sql_query('SELECT * from posts;', con)\n",
    "con.close()\n",
    "#df"
   ]
  },
  {
   "cell_type": "code",
   "execution_count": 3,
   "id": "bf3bb145",
   "metadata": {},
   "outputs": [],
   "source": [
    "sentiment_df = pd.read_csv('AFINN-en-165.txt', sep='\\t', names=['word', 'score'], index_col='word')"
   ]
  },
  {
   "cell_type": "code",
   "execution_count": 4,
   "id": "417867e4",
   "metadata": {},
   "outputs": [],
   "source": [
    "sentiment_dict = sentiment_df.to_dict()['score']"
   ]
  },
  {
   "cell_type": "code",
   "execution_count": 5,
   "id": "fb55d7a8",
   "metadata": {},
   "outputs": [
    {
     "ename": "NameError",
     "evalue": "name 'df' is not defined",
     "output_type": "error",
     "traceback": [
      "\u001b[0;31m---------------------------------------------------------------------------\u001b[0m",
      "\u001b[0;31mNameError\u001b[0m                                 Traceback (most recent call last)",
      "\u001b[0;32m/var/folders/by/2b2gkbxs5_5fgxc6m1r9j9pr0000gn/T/ipykernel_16451/3446512622.py\u001b[0m in \u001b[0;36m<module>\u001b[0;34m\u001b[0m\n\u001b[1;32m      2\u001b[0m \u001b[0;34m\u001b[0m\u001b[0m\n\u001b[1;32m      3\u001b[0m \u001b[0mtitle_sentiments\u001b[0m \u001b[0;34m=\u001b[0m \u001b[0;34m[\u001b[0m\u001b[0;34m]\u001b[0m\u001b[0;34m\u001b[0m\u001b[0;34m\u001b[0m\u001b[0m\n\u001b[0;32m----> 4\u001b[0;31m \u001b[0;32mfor\u001b[0m \u001b[0mtitle\u001b[0m \u001b[0;32min\u001b[0m \u001b[0mdf\u001b[0m\u001b[0;34m[\u001b[0m\u001b[0;34m'title'\u001b[0m\u001b[0;34m]\u001b[0m\u001b[0;34m:\u001b[0m\u001b[0;34m\u001b[0m\u001b[0;34m\u001b[0m\u001b[0m\n\u001b[0m\u001b[1;32m      5\u001b[0m     \u001b[0mwords\u001b[0m \u001b[0;34m=\u001b[0m \u001b[0mtitle\u001b[0m\u001b[0;34m.\u001b[0m\u001b[0mlower\u001b[0m\u001b[0;34m(\u001b[0m\u001b[0;34m)\u001b[0m\u001b[0;34m.\u001b[0m\u001b[0msplit\u001b[0m\u001b[0;34m(\u001b[0m\u001b[0;34m)\u001b[0m\u001b[0;34m\u001b[0m\u001b[0;34m\u001b[0m\u001b[0m\n\u001b[1;32m      6\u001b[0m     \u001b[0mthis_titles_sentiments\u001b[0m \u001b[0;34m=\u001b[0m \u001b[0;34m[\u001b[0m\u001b[0;34m]\u001b[0m\u001b[0;34m\u001b[0m\u001b[0;34m\u001b[0m\u001b[0m\n",
      "\u001b[0;31mNameError\u001b[0m: name 'df' is not defined"
     ]
    }
   ],
   "source": [
    "import numpy as np\n",
    "\n",
    "title_sentiments = []\n",
    "for title in df['title']:\n",
    "    words = title.lower().split()\n",
    "    this_titles_sentiments = []\n",
    "    for w in words:\n",
    "        if w in sentiment_dict.keys():\n",
    "            this_titles_sentiments.append(sentiment_dict[w])\n",
    "        else:\n",
    "            this_titles_sentiments.append(0)\n",
    "            \n",
    "    \n",
    "    title_sentiments.append(np.mean(this_titles_sentiments))"
   ]
  },
  {
   "cell_type": "code",
   "execution_count": 6,
   "id": "d97d0493",
   "metadata": {},
   "outputs": [],
   "source": [
    "df['keyword_sentiment'] = title_sentiments"
   ]
  },
  {
   "cell_type": "code",
   "execution_count": 7,
   "id": "8a34bae9",
   "metadata": {},
   "outputs": [
    {
     "data": {
      "text/plain": [
       "['Dear VisualMod,',\n",
       " 'Yoda gives good advice.',\n",
       " 'TLRY: The Perfect Buy',\n",
       " 'You best start believing...',\n",
       " 'And no luck',\n",
       " 'Two great signs for sdc',\n",
       " 'High on Cannabis Opportunity',\n",
       " 'That kind of day',\n",
       " 'Greatest hits from Earlier this year',\n",
       " 'Robinhood Fair Fund 24,000',\n",
       " \"Rising chip prices fuel Samsung's best quarterly profit in 3 years\",\n",
       " '$PLTR Will be a good day 😎🤙🏽',\n",
       " \"Farewell my tendies, it's been a pleasure\",\n",
       " 'A true BABA bull never backs down',\n",
       " '$SDC held support PERFECT today! [Tech Analysis] 🔥 , see chart below.',\n",
       " 'JPow showing his true self',\n",
       " 'Jan nostalgia... best GME edit of all time.',\n",
       " 'Poker is a game where you win once, but a lot.',\n",
       " 'Nearing -100k on a profitable stock…fml',\n",
       " 'Taiwan Semiconductor setting for a great close TP 150$']"
      ]
     },
     "execution_count": 7,
     "metadata": {},
     "output_type": "execute_result"
    },
    {
     "data": {
      "image/png": "[encoded data removed]",
      "text/plain": [
       "<Figure size 432x288 with 1 Axes>"
      ]
     },
     "metadata": {
      "needs_background": "light"
     },
     "output_type": "display_data"
    }
   ],
   "source": [
    "df['keyword_sentiment'].plot.hist(bins=30)# full titles of the top 10 sentiments\n",
    "df.sort_values(by='keyword_sentiment', ascending=False)['title'].to_list()[:20]"
   ]
  },
  {
   "cell_type": "code",
   "execution_count": 8,
   "id": "c24f1fdc",
   "metadata": {},
   "outputs": [
    {
     "data": {
      "text/plain": [
       "0.005944455067040268"
      ]
     },
     "execution_count": 8,
     "metadata": {},
     "output_type": "execute_result"
    }
   ],
   "source": [
    "df['keyword_sentiment'].mean()"
   ]
  },
  {
   "cell_type": "code",
   "execution_count": 9,
   "id": "3d2e50a5",
   "metadata": {},
   "outputs": [
    {
     "data": {
      "text/plain": [
       "['Loss Porn!',\n",
       " 'FUCK YO PUTS',\n",
       " '$AAWW SHIT $250K YOLO',\n",
       " 'Small dick club $SDC',\n",
       " 'Down 15K from my highs. Macau is fucking my ass with no lube.',\n",
       " 'Retarded $RIOT DD',\n",
       " 'YOLO turns to loss porn...',\n",
       " 'What the hell happened to $SPIR ?',\n",
       " 'How fucked am I? Cost basis: $25200',\n",
       " 'Goldman Flags $8.2 Trillion Threat Worse Than China Evergrande']"
      ]
     },
     "execution_count": 9,
     "metadata": {},
     "output_type": "execute_result"
    }
   ],
   "source": [
    "# full titles of the bottom 10 sentiments\n",
    "df.sort_values(by='keyword_sentiment')['title'].to_list()[:10]"
   ]
  },
  {
   "cell_type": "code",
   "execution_count": 10,
   "id": "d5f90c40",
   "metadata": {},
   "outputs": [
    {
     "data": {
      "text/plain": [
       "['Dear VisualMod,',\n",
       " 'Yoda gives good advice.',\n",
       " 'TLRY: The Perfect Buy',\n",
       " 'You best start believing...',\n",
       " 'And no luck',\n",
       " 'Two great signs for sdc',\n",
       " 'High on Cannabis Opportunity',\n",
       " 'That kind of day',\n",
       " 'Greatest hits from Earlier this year',\n",
       " 'Robinhood Fair Fund 24,000']"
      ]
     },
     "execution_count": 10,
     "metadata": {},
     "output_type": "execute_result"
    }
   ],
   "source": [
    "# full titles of the top 10 sentiments\n",
    "df.sort_values(by='keyword_sentiment', ascending=False)['title'].to_list()[:10]"
   ]
  },
  {
   "cell_type": "code",
   "execution_count": null,
   "id": "8a269110",
   "metadata": {},
   "outputs": [],
   "source": []
  },
  {
   "cell_type": "code",
   "execution_count": 11,
   "id": "dc23dc92",
   "metadata": {},
   "outputs": [
    {
     "data": {
      "text/plain": [
       "Sentiment(polarity=-0.25, subjectivity=0.4)"
      ]
     },
     "execution_count": 11,
     "metadata": {},
     "output_type": "execute_result"
    }
   ],
   "source": [
    "from textblob import TextBlob\n",
    "\n",
    "tb = TextBlob(\"Small dick club $SDC\")\n",
    "tb.sentiment"
   ]
  },
  {
   "cell_type": "code",
   "execution_count": 12,
   "id": "18cad74f",
   "metadata": {},
   "outputs": [
    {
     "data": {
      "text/plain": [
       "<AxesSubplot:ylabel='Frequency'>"
      ]
     },
     "execution_count": 12,
     "metadata": {},
     "output_type": "execute_result"
    },
    {
     "data": {
      "image/png": "[encoded data removed]",
      "text/plain": [
       "<Figure size 432x288 with 1 Axes>"
      ]
     },
     "metadata": {
      "needs_background": "light"
     },
     "output_type": "display_data"
    }
   ],
   "source": [
    "def get_tb_sentiment(text):\n",
    "    tb = TextBlob(text)\n",
    "    return tb.sentiment[0]\n",
    "\n",
    "df['tb_sentiment'] = df['title'].apply(get_tb_sentiment)\n",
    "df['tb_sentiment'].plot.hist(bins=30)"
   ]
  },
  {
   "cell_type": "code",
   "execution_count": 14,
   "id": "50ebb437",
   "metadata": {},
   "outputs": [
    {
     "data": {
      "text/plain": [
       "{'neg': 0.524, 'neu': 0.476, 'pos': 0.0, 'compound': -0.5106}"
      ]
     },
     "execution_count": 14,
     "metadata": {},
     "output_type": "execute_result"
    }
   ],
   "source": [
    "from vaderSentiment.vaderSentiment import SentimentIntensityAnalyzer\n",
    "\n",
    "analyzer = SentimentIntensityAnalyzer()\n",
    "analyzer.polarity_scores(\"Small dick club $SDC\")"
   ]
  },
  {
   "cell_type": "code",
   "execution_count": 15,
   "id": "3f652572",
   "metadata": {},
   "outputs": [
    {
     "data": {
      "text/plain": [
       "-0.5106"
      ]
     },
     "execution_count": 15,
     "metadata": {},
     "output_type": "execute_result"
    }
   ],
   "source": [
    "analyzer.polarity_scores(\"Small dick club $SDC\")['compound']"
   ]
  },
  {
   "cell_type": "code",
   "execution_count": null,
   "id": "e75cc5a2",
   "metadata": {},
   "outputs": [],
   "source": []
  },
  {
   "cell_type": "code",
   "execution_count": 16,
   "id": "3d751e8a",
   "metadata": {},
   "outputs": [
    {
     "data": {
      "text/plain": [
       "Sentiment(polarity=1.0, subjectivity=1.0)"
      ]
     },
     "execution_count": 16,
     "metadata": {},
     "output_type": "execute_result"
    }
   ],
   "source": [
    "from textblob import TextBlob\n",
    "\n",
    "tb = TextBlob(\"TLRY: The Perfect Buy\")\n",
    "tb.sentiment"
   ]
  },
  {
   "cell_type": "code",
   "execution_count": 17,
   "id": "fd11164d",
   "metadata": {},
   "outputs": [
    {
     "data": {
      "text/plain": [
       "{'neg': 0.0, 'neu': 0.448, 'pos': 0.552, 'compound': 0.5719}"
      ]
     },
     "execution_count": 17,
     "metadata": {},
     "output_type": "execute_result"
    }
   ],
   "source": [
    "from vaderSentiment.vaderSentiment import SentimentIntensityAnalyzer\n",
    "\n",
    "analyzer = SentimentIntensityAnalyzer()\n",
    "analyzer.polarity_scores(\"TLRY: The Perfect Buy\")"
   ]
  },
  {
   "cell_type": "code",
   "execution_count": 18,
   "id": "43bfcd5c",
   "metadata": {},
   "outputs": [
    {
     "data": {
      "text/plain": [
       "0.5719"
      ]
     },
     "execution_count": 18,
     "metadata": {},
     "output_type": "execute_result"
    }
   ],
   "source": [
    "analyzer.polarity_scores(\"TLRY: The Perfect Buy\")['compound']"
   ]
  },
  {
   "cell_type": "code",
   "execution_count": null,
   "id": "37163e2a",
   "metadata": {},
   "outputs": [],
   "source": []
  },
  {
   "cell_type": "code",
   "execution_count": 19,
   "id": "359a557a",
   "metadata": {},
   "outputs": [
    {
     "data": {
      "text/plain": [
       "Sentiment(polarity=0.7, subjectivity=0.6000000000000001)"
      ]
     },
     "execution_count": 19,
     "metadata": {},
     "output_type": "execute_result"
    }
   ],
   "source": [
    "from textblob import TextBlob\n",
    "\n",
    "tb = TextBlob(\"$PLTR Will be a good day 😎🤙🏽\")\n",
    "tb.sentiment"
   ]
  },
  {
   "cell_type": "code",
   "execution_count": 20,
   "id": "172d6430",
   "metadata": {},
   "outputs": [
    {
     "data": {
      "text/plain": [
       "{'neg': 0.0, 'neu': 0.588, 'pos': 0.412, 'compound': 0.8442}"
      ]
     },
     "execution_count": 20,
     "metadata": {},
     "output_type": "execute_result"
    }
   ],
   "source": [
    "from vaderSentiment.vaderSentiment import SentimentIntensityAnalyzer\n",
    "\n",
    "analyzer = SentimentIntensityAnalyzer()\n",
    "analyzer.polarity_scores(\"$PLTR Will be a good day 😎🤙🏽\")"
   ]
  },
  {
   "cell_type": "code",
   "execution_count": 21,
   "id": "3df481f0",
   "metadata": {},
   "outputs": [
    {
     "data": {
      "text/plain": [
       "0.8442"
      ]
     },
     "execution_count": 21,
     "metadata": {},
     "output_type": "execute_result"
    }
   ],
   "source": [
    "analyzer.polarity_scores(\"$PLTR Will be a good day 😎🤙🏽\")['compound']"
   ]
  },
  {
   "cell_type": "code",
   "execution_count": null,
   "id": "950d7a1d",
   "metadata": {},
   "outputs": [],
   "source": []
  },
  {
   "cell_type": "code",
   "execution_count": 22,
   "id": "d3495cb1",
   "metadata": {},
   "outputs": [
    {
     "data": {
      "text/plain": [
       "Sentiment(polarity=0.0, subjectivity=0.5)"
      ]
     },
     "execution_count": 22,
     "metadata": {},
     "output_type": "execute_result"
    }
   ],
   "source": [
    "from textblob import TextBlob\n",
    "\n",
    "tb = TextBlob(\"$WISH loss covered Calls not paying enough\")\n",
    "tb.sentiment"
   ]
  },
  {
   "cell_type": "code",
   "execution_count": 23,
   "id": "8f65b748",
   "metadata": {},
   "outputs": [
    {
     "data": {
      "text/plain": [
       "{'neg': 0.214, 'neu': 0.466, 'pos': 0.32, 'compound': 0.2808}"
      ]
     },
     "execution_count": 23,
     "metadata": {},
     "output_type": "execute_result"
    }
   ],
   "source": [
    "from vaderSentiment.vaderSentiment import SentimentIntensityAnalyzer\n",
    "\n",
    "analyzer = SentimentIntensityAnalyzer()\n",
    "analyzer.polarity_scores(\"$WISH loss covered Calls not paying enough\")"
   ]
  },
  {
   "cell_type": "code",
   "execution_count": 24,
   "id": "e2c2bbe2",
   "metadata": {},
   "outputs": [
    {
     "data": {
      "text/plain": [
       "0.2808"
      ]
     },
     "execution_count": 24,
     "metadata": {},
     "output_type": "execute_result"
    }
   ],
   "source": [
    "analyzer.polarity_scores(\"$WISH loss covered Calls not paying enough]\")['compound']"
   ]
  },
  {
   "cell_type": "code",
   "execution_count": null,
   "id": "40021abd",
   "metadata": {},
   "outputs": [],
   "source": []
  },
  {
   "cell_type": "code",
   "execution_count": 25,
   "id": "ff66f7a3",
   "metadata": {},
   "outputs": [
    {
     "data": {
      "text/plain": [
       "Sentiment(polarity=0.35000000000000003, subjectivity=0.575)"
      ]
     },
     "execution_count": 25,
     "metadata": {},
     "output_type": "execute_result"
    }
   ],
   "source": [
    "from textblob import TextBlob\n",
    "\n",
    "tb = TextBlob(\"Apple Stock: Rough September Can Be Great For October Returns\")\n",
    "tb.sentiment"
   ]
  },
  {
   "cell_type": "code",
   "execution_count": 26,
   "id": "dae2089c",
   "metadata": {},
   "outputs": [
    {
     "data": {
      "text/plain": [
       "{'neg': 0.0, 'neu': 0.687, 'pos': 0.313, 'compound': 0.6249}"
      ]
     },
     "execution_count": 26,
     "metadata": {},
     "output_type": "execute_result"
    }
   ],
   "source": [
    "from vaderSentiment.vaderSentiment import SentimentIntensityAnalyzer\n",
    "\n",
    "analyzer = SentimentIntensityAnalyzer()\n",
    "analyzer.polarity_scores(\"Apple Stock: Rough September Can Be Great For October Returns\")"
   ]
  },
  {
   "cell_type": "code",
   "execution_count": 27,
   "id": "f9f7d677",
   "metadata": {},
   "outputs": [
    {
     "data": {
      "text/plain": [
       "0.6249"
      ]
     },
     "execution_count": 27,
     "metadata": {},
     "output_type": "execute_result"
    }
   ],
   "source": [
    "analyzer.polarity_scores(\"Apple Stock: Rough September Can Be Great For October Returns\")['compound']"
   ]
  },
  {
   "cell_type": "markdown",
   "id": "aceb73ff",
   "metadata": {},
   "source": [
    "\n",
    "The overall sentiment of the subreddit was slightly positive with the average being 0.0368. The language used in the Wallstreet bets subreddit is rather vulgar (just a heads up), so I was expecting pretty negative sentiment out of most topics. I examined some subreddit titles that included stocks that I saw were frequently mentioned from my last weeks analysis and a few others. $sdc had negative sentiment and a polarity score of -0.51. I believe the stock has been performing very poorly in the last few months so this is to be expected. The stock $tlry had no negative sentiment and had a polarity score of 0.57. I haven’t really heard of this stock so I’d be interested to follow it and see how its sentiment changes based on its performance. $pltr and $aaple had mostly neutral sentiment. $wish is another poorly performing stock that had a roughly equal negative to positive sentiment with a polarity score of 0.28. \n",
    "\n",
    "$sdc \n",
    "'neg': 0.524, 'neu': 0.476, 'pos': 0.0, 'compound': -0.5106\n",
    "-0.5106\n",
    "\n",
    "$tlry \n",
    "'neg': 0.0, 'neu': 0.448, 'pos': 0.552, 'compound': 0.5719\n",
    "0.5719\n",
    "\n",
    "$pltr\n",
    "'neg': 0.0, 'neu': 0.588, 'pos': 0.412, 'compound': 0.8442\n",
    "0.8442\n",
    "\n",
    "$wish\n",
    "'neg': 0.214, 'neu': 0.466, 'pos': 0.32, 'compound': 0.2808\n",
    "0.2808\n",
    "\n",
    "$aapl\n",
    "'neg': 0.0, 'neu': 0.687, 'pos': 0.313, 'compound': 0.6249\n",
    "0.6249\n",
    "\n",
    "I would like to use this data in the future to analyze the sentiment with the stocks performance. There is a tool in stocks called the fear and greed index (Not sure how it’s calculated). I imagine something similar can be done using this subreddits data. There could be a sentiment index corresponding to how well a stock is performing to get more insight into what people are thinking."
   ]
  }
 ],
 "metadata": {
  "kernelspec": {
   "display_name": "Python 3 (ipykernel)",
   "language": "python",
   "name": "python3"
  },
  "language_info": {
   "codemirror_mode": {
    "name": "ipython",
    "version": 3
   },
   "file_extension": ".py",
   "mimetype": "text/x-python",
   "name": "python",
   "nbconvert_exporter": "python",
   "pygments_lexer": "ipython3",
   "version": "3.9.7"
  }
 },
 "nbformat": 4,
 "nbformat_minor": 5
}
