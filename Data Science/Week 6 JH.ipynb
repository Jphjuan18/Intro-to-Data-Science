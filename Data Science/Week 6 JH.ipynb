{
 "cells": [
  {
   "cell_type": "code",
   "execution_count": 1,
   "id": "57c3463c",
   "metadata": {},
   "outputs": [],
   "source": [
    "import numpy as np\n",
    "import pandas as pd\n",
    "import matplotlib.pyplot as plt"
   ]
  },
  {
   "cell_type": "code",
   "execution_count": 2,
   "id": "f9688c47",
   "metadata": {},
   "outputs": [],
   "source": [
    "def euclidean_distance(vector1, vector2):\n",
    "    return np.sqrt(np.sum((vector1 - vector2) ** 2))\n",
    "\n",
    "def euclidean_distance(vector1, vector2):\n",
    "    return np.linalg.norm(vector1 - vector2)\n",
    "    \n",
    "from scipy.spatial.distance import euclidean"
   ]
  },
  {
   "cell_type": "code",
   "execution_count": 3,
   "id": "0f2e2fe6",
   "metadata": {},
   "outputs": [],
   "source": [
    "def cosine_similarity(vector1, vector2):\n",
    "    return np.dot(vector1, vector2) / (np.sqrt(np.dot(vector1, vector1)) * np.sqrt(np.dot(vector2, vector2)))\n",
    "\n",
    "from scipy.spatial.distance import cosine"
   ]
  },
  {
   "cell_type": "code",
   "execution_count": 4,
   "id": "4e9ebd88",
   "metadata": {},
   "outputs": [],
   "source": [
    "from scipy.stats.stats import pearsonr"
   ]
  },
  {
   "cell_type": "code",
   "execution_count": 5,
   "id": "fcae2412",
   "metadata": {},
   "outputs": [],
   "source": [
    "ratings = pd.read_csv('ratings.csv')\n",
    "movies = pd.read_csv('movies.csv')"
   ]
  },
  {
   "cell_type": "code",
   "execution_count": 6,
   "id": "0769f4c9",
   "metadata": {},
   "outputs": [],
   "source": [
    "movies.set_index('movieId', inplace=True)"
   ]
  },
  {
   "cell_type": "code",
   "execution_count": 7,
   "id": "5c682040",
   "metadata": {},
   "outputs": [
    {
     "data": {
      "text/plain": [
       "0        2000-07-30 18:45:03\n",
       "1        2000-07-30 18:20:47\n",
       "2        2000-07-30 18:37:04\n",
       "3        2000-07-30 19:03:35\n",
       "4        2000-07-30 18:48:51\n",
       "                 ...        \n",
       "100831   2017-05-03 21:53:22\n",
       "100832   2017-05-03 22:21:31\n",
       "100833   2017-05-08 19:50:47\n",
       "100834   2017-05-03 21:19:12\n",
       "100835   2017-05-03 21:20:15\n",
       "Name: timestamp, Length: 100836, dtype: datetime64[ns]"
      ]
     },
     "execution_count": 7,
     "metadata": {},
     "output_type": "execute_result"
    }
   ],
   "source": [
    "pd.to_datetime(ratings['timestamp'], unit='s')"
   ]
  },
  {
   "cell_type": "code",
   "execution_count": 8,
   "id": "2d6a10f8",
   "metadata": {},
   "outputs": [
    {
     "data": {
      "text/html": [
       "<div>\n",
       "<style scoped>\n",
       "    .dataframe tbody tr th:only-of-type {\n",
       "        vertical-align: middle;\n",
       "    }\n",
       "\n",
       "    .dataframe tbody tr th {\n",
       "        vertical-align: top;\n",
       "    }\n",
       "\n",
       "    .dataframe thead th {\n",
       "        text-align: right;\n",
       "    }\n",
       "</style>\n",
       "<table border=\"1\" class=\"dataframe\">\n",
       "  <thead>\n",
       "    <tr style=\"text-align: right;\">\n",
       "      <th></th>\n",
       "      <th>userId</th>\n",
       "      <th>movieId</th>\n",
       "      <th>rating</th>\n",
       "      <th>timestamp</th>\n",
       "    </tr>\n",
       "  </thead>\n",
       "  <tbody>\n",
       "    <tr>\n",
       "      <th>0</th>\n",
       "      <td>1</td>\n",
       "      <td>1</td>\n",
       "      <td>4.0</td>\n",
       "      <td>964982703</td>\n",
       "    </tr>\n",
       "    <tr>\n",
       "      <th>1</th>\n",
       "      <td>1</td>\n",
       "      <td>3</td>\n",
       "      <td>4.0</td>\n",
       "      <td>964981247</td>\n",
       "    </tr>\n",
       "    <tr>\n",
       "      <th>2</th>\n",
       "      <td>1</td>\n",
       "      <td>6</td>\n",
       "      <td>4.0</td>\n",
       "      <td>964982224</td>\n",
       "    </tr>\n",
       "    <tr>\n",
       "      <th>3</th>\n",
       "      <td>1</td>\n",
       "      <td>47</td>\n",
       "      <td>5.0</td>\n",
       "      <td>964983815</td>\n",
       "    </tr>\n",
       "    <tr>\n",
       "      <th>4</th>\n",
       "      <td>1</td>\n",
       "      <td>50</td>\n",
       "      <td>5.0</td>\n",
       "      <td>964982931</td>\n",
       "    </tr>\n",
       "    <tr>\n",
       "      <th>...</th>\n",
       "      <td>...</td>\n",
       "      <td>...</td>\n",
       "      <td>...</td>\n",
       "      <td>...</td>\n",
       "    </tr>\n",
       "    <tr>\n",
       "      <th>100831</th>\n",
       "      <td>610</td>\n",
       "      <td>166534</td>\n",
       "      <td>4.0</td>\n",
       "      <td>1493848402</td>\n",
       "    </tr>\n",
       "    <tr>\n",
       "      <th>100832</th>\n",
       "      <td>610</td>\n",
       "      <td>168248</td>\n",
       "      <td>5.0</td>\n",
       "      <td>1493850091</td>\n",
       "    </tr>\n",
       "    <tr>\n",
       "      <th>100833</th>\n",
       "      <td>610</td>\n",
       "      <td>168250</td>\n",
       "      <td>5.0</td>\n",
       "      <td>1494273047</td>\n",
       "    </tr>\n",
       "    <tr>\n",
       "      <th>100834</th>\n",
       "      <td>610</td>\n",
       "      <td>168252</td>\n",
       "      <td>5.0</td>\n",
       "      <td>1493846352</td>\n",
       "    </tr>\n",
       "    <tr>\n",
       "      <th>100835</th>\n",
       "      <td>610</td>\n",
       "      <td>170875</td>\n",
       "      <td>3.0</td>\n",
       "      <td>1493846415</td>\n",
       "    </tr>\n",
       "  </tbody>\n",
       "</table>\n",
       "<p>100836 rows × 4 columns</p>\n",
       "</div>"
      ],
      "text/plain": [
       "        userId  movieId  rating   timestamp\n",
       "0            1        1     4.0   964982703\n",
       "1            1        3     4.0   964981247\n",
       "2            1        6     4.0   964982224\n",
       "3            1       47     5.0   964983815\n",
       "4            1       50     5.0   964982931\n",
       "...        ...      ...     ...         ...\n",
       "100831     610   166534     4.0  1493848402\n",
       "100832     610   168248     5.0  1493850091\n",
       "100833     610   168250     5.0  1494273047\n",
       "100834     610   168252     5.0  1493846352\n",
       "100835     610   170875     3.0  1493846415\n",
       "\n",
       "[100836 rows x 4 columns]"
      ]
     },
     "execution_count": 8,
     "metadata": {},
     "output_type": "execute_result"
    }
   ],
   "source": [
    "ratings"
   ]
  },
  {
   "cell_type": "code",
   "execution_count": 9,
   "id": "588a9c66",
   "metadata": {},
   "outputs": [],
   "source": [
    "user2 = ratings[ratings[\"userId\"].isin([2])]"
   ]
  },
  {
   "cell_type": "code",
   "execution_count": 10,
   "id": "5f10a0cb",
   "metadata": {},
   "outputs": [
    {
     "data": {
      "text/html": [
       "<div>\n",
       "<style scoped>\n",
       "    .dataframe tbody tr th:only-of-type {\n",
       "        vertical-align: middle;\n",
       "    }\n",
       "\n",
       "    .dataframe tbody tr th {\n",
       "        vertical-align: top;\n",
       "    }\n",
       "\n",
       "    .dataframe thead th {\n",
       "        text-align: right;\n",
       "    }\n",
       "</style>\n",
       "<table border=\"1\" class=\"dataframe\">\n",
       "  <thead>\n",
       "    <tr style=\"text-align: right;\">\n",
       "      <th></th>\n",
       "      <th>userId</th>\n",
       "      <th>movieId</th>\n",
       "      <th>rating</th>\n",
       "      <th>timestamp</th>\n",
       "    </tr>\n",
       "  </thead>\n",
       "  <tbody>\n",
       "    <tr>\n",
       "      <th>232</th>\n",
       "      <td>2</td>\n",
       "      <td>318</td>\n",
       "      <td>3.0</td>\n",
       "      <td>1445714835</td>\n",
       "    </tr>\n",
       "    <tr>\n",
       "      <th>233</th>\n",
       "      <td>2</td>\n",
       "      <td>333</td>\n",
       "      <td>4.0</td>\n",
       "      <td>1445715029</td>\n",
       "    </tr>\n",
       "    <tr>\n",
       "      <th>234</th>\n",
       "      <td>2</td>\n",
       "      <td>1704</td>\n",
       "      <td>4.5</td>\n",
       "      <td>1445715228</td>\n",
       "    </tr>\n",
       "    <tr>\n",
       "      <th>235</th>\n",
       "      <td>2</td>\n",
       "      <td>3578</td>\n",
       "      <td>4.0</td>\n",
       "      <td>1445714885</td>\n",
       "    </tr>\n",
       "    <tr>\n",
       "      <th>236</th>\n",
       "      <td>2</td>\n",
       "      <td>6874</td>\n",
       "      <td>4.0</td>\n",
       "      <td>1445714952</td>\n",
       "    </tr>\n",
       "    <tr>\n",
       "      <th>237</th>\n",
       "      <td>2</td>\n",
       "      <td>8798</td>\n",
       "      <td>3.5</td>\n",
       "      <td>1445714960</td>\n",
       "    </tr>\n",
       "    <tr>\n",
       "      <th>238</th>\n",
       "      <td>2</td>\n",
       "      <td>46970</td>\n",
       "      <td>4.0</td>\n",
       "      <td>1445715013</td>\n",
       "    </tr>\n",
       "    <tr>\n",
       "      <th>239</th>\n",
       "      <td>2</td>\n",
       "      <td>48516</td>\n",
       "      <td>4.0</td>\n",
       "      <td>1445715064</td>\n",
       "    </tr>\n",
       "    <tr>\n",
       "      <th>240</th>\n",
       "      <td>2</td>\n",
       "      <td>58559</td>\n",
       "      <td>4.5</td>\n",
       "      <td>1445715141</td>\n",
       "    </tr>\n",
       "    <tr>\n",
       "      <th>241</th>\n",
       "      <td>2</td>\n",
       "      <td>60756</td>\n",
       "      <td>5.0</td>\n",
       "      <td>1445714980</td>\n",
       "    </tr>\n",
       "    <tr>\n",
       "      <th>242</th>\n",
       "      <td>2</td>\n",
       "      <td>68157</td>\n",
       "      <td>4.5</td>\n",
       "      <td>1445715154</td>\n",
       "    </tr>\n",
       "    <tr>\n",
       "      <th>243</th>\n",
       "      <td>2</td>\n",
       "      <td>71535</td>\n",
       "      <td>3.0</td>\n",
       "      <td>1445714974</td>\n",
       "    </tr>\n",
       "    <tr>\n",
       "      <th>244</th>\n",
       "      <td>2</td>\n",
       "      <td>74458</td>\n",
       "      <td>4.0</td>\n",
       "      <td>1445714926</td>\n",
       "    </tr>\n",
       "    <tr>\n",
       "      <th>245</th>\n",
       "      <td>2</td>\n",
       "      <td>77455</td>\n",
       "      <td>3.0</td>\n",
       "      <td>1445714941</td>\n",
       "    </tr>\n",
       "    <tr>\n",
       "      <th>246</th>\n",
       "      <td>2</td>\n",
       "      <td>79132</td>\n",
       "      <td>4.0</td>\n",
       "      <td>1445714841</td>\n",
       "    </tr>\n",
       "    <tr>\n",
       "      <th>247</th>\n",
       "      <td>2</td>\n",
       "      <td>80489</td>\n",
       "      <td>4.5</td>\n",
       "      <td>1445715340</td>\n",
       "    </tr>\n",
       "    <tr>\n",
       "      <th>248</th>\n",
       "      <td>2</td>\n",
       "      <td>80906</td>\n",
       "      <td>5.0</td>\n",
       "      <td>1445715172</td>\n",
       "    </tr>\n",
       "    <tr>\n",
       "      <th>249</th>\n",
       "      <td>2</td>\n",
       "      <td>86345</td>\n",
       "      <td>4.0</td>\n",
       "      <td>1445715166</td>\n",
       "    </tr>\n",
       "    <tr>\n",
       "      <th>250</th>\n",
       "      <td>2</td>\n",
       "      <td>89774</td>\n",
       "      <td>5.0</td>\n",
       "      <td>1445715189</td>\n",
       "    </tr>\n",
       "    <tr>\n",
       "      <th>251</th>\n",
       "      <td>2</td>\n",
       "      <td>91529</td>\n",
       "      <td>3.5</td>\n",
       "      <td>1445714891</td>\n",
       "    </tr>\n",
       "    <tr>\n",
       "      <th>252</th>\n",
       "      <td>2</td>\n",
       "      <td>91658</td>\n",
       "      <td>2.5</td>\n",
       "      <td>1445714938</td>\n",
       "    </tr>\n",
       "    <tr>\n",
       "      <th>253</th>\n",
       "      <td>2</td>\n",
       "      <td>99114</td>\n",
       "      <td>3.5</td>\n",
       "      <td>1445714874</td>\n",
       "    </tr>\n",
       "    <tr>\n",
       "      <th>254</th>\n",
       "      <td>2</td>\n",
       "      <td>106782</td>\n",
       "      <td>5.0</td>\n",
       "      <td>1445714966</td>\n",
       "    </tr>\n",
       "    <tr>\n",
       "      <th>255</th>\n",
       "      <td>2</td>\n",
       "      <td>109487</td>\n",
       "      <td>3.0</td>\n",
       "      <td>1445715145</td>\n",
       "    </tr>\n",
       "    <tr>\n",
       "      <th>256</th>\n",
       "      <td>2</td>\n",
       "      <td>112552</td>\n",
       "      <td>4.0</td>\n",
       "      <td>1445714882</td>\n",
       "    </tr>\n",
       "    <tr>\n",
       "      <th>257</th>\n",
       "      <td>2</td>\n",
       "      <td>114060</td>\n",
       "      <td>2.0</td>\n",
       "      <td>1445715276</td>\n",
       "    </tr>\n",
       "    <tr>\n",
       "      <th>258</th>\n",
       "      <td>2</td>\n",
       "      <td>115713</td>\n",
       "      <td>3.5</td>\n",
       "      <td>1445714854</td>\n",
       "    </tr>\n",
       "    <tr>\n",
       "      <th>259</th>\n",
       "      <td>2</td>\n",
       "      <td>122882</td>\n",
       "      <td>5.0</td>\n",
       "      <td>1445715272</td>\n",
       "    </tr>\n",
       "    <tr>\n",
       "      <th>260</th>\n",
       "      <td>2</td>\n",
       "      <td>131724</td>\n",
       "      <td>5.0</td>\n",
       "      <td>1445714851</td>\n",
       "    </tr>\n",
       "  </tbody>\n",
       "</table>\n",
       "</div>"
      ],
      "text/plain": [
       "     userId  movieId  rating   timestamp\n",
       "232       2      318     3.0  1445714835\n",
       "233       2      333     4.0  1445715029\n",
       "234       2     1704     4.5  1445715228\n",
       "235       2     3578     4.0  1445714885\n",
       "236       2     6874     4.0  1445714952\n",
       "237       2     8798     3.5  1445714960\n",
       "238       2    46970     4.0  1445715013\n",
       "239       2    48516     4.0  1445715064\n",
       "240       2    58559     4.5  1445715141\n",
       "241       2    60756     5.0  1445714980\n",
       "242       2    68157     4.5  1445715154\n",
       "243       2    71535     3.0  1445714974\n",
       "244       2    74458     4.0  1445714926\n",
       "245       2    77455     3.0  1445714941\n",
       "246       2    79132     4.0  1445714841\n",
       "247       2    80489     4.5  1445715340\n",
       "248       2    80906     5.0  1445715172\n",
       "249       2    86345     4.0  1445715166\n",
       "250       2    89774     5.0  1445715189\n",
       "251       2    91529     3.5  1445714891\n",
       "252       2    91658     2.5  1445714938\n",
       "253       2    99114     3.5  1445714874\n",
       "254       2   106782     5.0  1445714966\n",
       "255       2   109487     3.0  1445715145\n",
       "256       2   112552     4.0  1445714882\n",
       "257       2   114060     2.0  1445715276\n",
       "258       2   115713     3.5  1445714854\n",
       "259       2   122882     5.0  1445715272\n",
       "260       2   131724     5.0  1445714851"
      ]
     },
     "execution_count": 10,
     "metadata": {},
     "output_type": "execute_result"
    }
   ],
   "source": [
    "user2"
   ]
  },
  {
   "cell_type": "code",
   "execution_count": 44,
   "id": "1f19deb8",
   "metadata": {},
   "outputs": [
    {
     "name": "stdout",
     "output_type": "stream",
     "text": [
      "User 2 has seen 29 movies\n"
     ]
    }
   ],
   "source": [
    "len(user2)\n",
    "print('User 2 has seen {} movies'.format(len(user2)))"
   ]
  },
  {
   "cell_type": "code",
   "execution_count": 12,
   "id": "11c67617",
   "metadata": {},
   "outputs": [
    {
     "data": {
      "image/png": "[encoded data removed]",
      "text/plain": [
       "<Figure size 1080x720 with 1 Axes>"
      ]
     },
     "metadata": {
      "needs_background": "light"
     },
     "output_type": "display_data"
    }
   ],
   "source": [
    "plt.rcParams[\"figure.figsize\"] = (15, 10)\n",
    "user2.groupby(user2[\"rating\"]).size().plot(kind='bar',color = 'blue').legend(['Sum of Ratings'])\n",
    "\n",
    "plt.show()"
   ]
  },
  {
   "cell_type": "code",
   "execution_count": 45,
   "id": "0c7ea2e9",
   "metadata": {},
   "outputs": [
    {
     "data": {
      "image/png": "[encoded data removed]",
      "text/plain": [
       "<Figure size 1080x720 with 1 Axes>"
      ]
     },
     "metadata": {
      "needs_background": "light"
     },
     "output_type": "display_data"
    }
   ],
   "source": [
    "plt.rcParams[\"figure.figsize\"] = (15, 10)\n",
    "user2.groupby(movies[\"genres\"]).size().plot(kind='bar',color = 'Red').legend(['Sum of Favorite Genres for User 2'])\n",
    "\n",
    "plt.show()"
   ]
  },
  {
   "cell_type": "code",
   "execution_count": 46,
   "id": "a76e22b6",
   "metadata": {},
   "outputs": [
    {
     "data": {
      "text/html": [
       "<div>\n",
       "<style scoped>\n",
       "    .dataframe tbody tr th:only-of-type {\n",
       "        vertical-align: middle;\n",
       "    }\n",
       "\n",
       "    .dataframe tbody tr th {\n",
       "        vertical-align: top;\n",
       "    }\n",
       "\n",
       "    .dataframe thead th {\n",
       "        text-align: right;\n",
       "    }\n",
       "</style>\n",
       "<table border=\"1\" class=\"dataframe\">\n",
       "  <thead>\n",
       "    <tr style=\"text-align: right;\">\n",
       "      <th></th>\n",
       "      <th>userId</th>\n",
       "      <th>movieId</th>\n",
       "      <th>rating</th>\n",
       "      <th>timestamp</th>\n",
       "    </tr>\n",
       "  </thead>\n",
       "  <tbody>\n",
       "    <tr>\n",
       "      <th>241</th>\n",
       "      <td>2</td>\n",
       "      <td>60756</td>\n",
       "      <td>5.0</td>\n",
       "      <td>1445714980</td>\n",
       "    </tr>\n",
       "    <tr>\n",
       "      <th>248</th>\n",
       "      <td>2</td>\n",
       "      <td>80906</td>\n",
       "      <td>5.0</td>\n",
       "      <td>1445715172</td>\n",
       "    </tr>\n",
       "    <tr>\n",
       "      <th>250</th>\n",
       "      <td>2</td>\n",
       "      <td>89774</td>\n",
       "      <td>5.0</td>\n",
       "      <td>1445715189</td>\n",
       "    </tr>\n",
       "    <tr>\n",
       "      <th>254</th>\n",
       "      <td>2</td>\n",
       "      <td>106782</td>\n",
       "      <td>5.0</td>\n",
       "      <td>1445714966</td>\n",
       "    </tr>\n",
       "    <tr>\n",
       "      <th>259</th>\n",
       "      <td>2</td>\n",
       "      <td>122882</td>\n",
       "      <td>5.0</td>\n",
       "      <td>1445715272</td>\n",
       "    </tr>\n",
       "    <tr>\n",
       "      <th>260</th>\n",
       "      <td>2</td>\n",
       "      <td>131724</td>\n",
       "      <td>5.0</td>\n",
       "      <td>1445714851</td>\n",
       "    </tr>\n",
       "  </tbody>\n",
       "</table>\n",
       "</div>"
      ],
      "text/plain": [
       "     userId  movieId  rating   timestamp\n",
       "241       2    60756     5.0  1445714980\n",
       "248       2    80906     5.0  1445715172\n",
       "250       2    89774     5.0  1445715189\n",
       "254       2   106782     5.0  1445714966\n",
       "259       2   122882     5.0  1445715272\n",
       "260       2   131724     5.0  1445714851"
      ]
     },
     "execution_count": 46,
     "metadata": {},
     "output_type": "execute_result"
    }
   ],
   "source": [
    "ratings[(ratings['userId'] == 2) & (ratings['rating'] == 5.0)]"
   ]
  },
  {
   "cell_type": "code",
   "execution_count": 47,
   "id": "4a23d56a",
   "metadata": {},
   "outputs": [],
   "source": [
    "#wide.loc[2][wide.loc[2] == 5] #can also use this method"
   ]
  },
  {
   "cell_type": "code",
   "execution_count": 48,
   "id": "dd6a043f",
   "metadata": {},
   "outputs": [
    {
     "data": {
      "text/plain": [
       "title     Step Brothers (2008)\n",
       "genres                  Comedy\n",
       "Name: 60756, dtype: object"
      ]
     },
     "execution_count": 48,
     "metadata": {},
     "output_type": "execute_result"
    }
   ],
   "source": [
    "movies.loc[60756]"
   ]
  },
  {
   "cell_type": "code",
   "execution_count": 17,
   "id": "4f581d20",
   "metadata": {},
   "outputs": [
    {
     "data": {
      "text/plain": [
       "title     Inside Job (2010)\n",
       "genres          Documentary\n",
       "Name: 80906, dtype: object"
      ]
     },
     "execution_count": 17,
     "metadata": {},
     "output_type": "execute_result"
    }
   ],
   "source": [
    "movies.loc[80906]"
   ]
  },
  {
   "cell_type": "code",
   "execution_count": 18,
   "id": "245b2251",
   "metadata": {},
   "outputs": [
    {
     "data": {
      "text/plain": [
       "title     Warrior (2011)\n",
       "genres             Drama\n",
       "Name: 89774, dtype: object"
      ]
     },
     "execution_count": 18,
     "metadata": {},
     "output_type": "execute_result"
    }
   ],
   "source": [
    "movies.loc[89774]"
   ]
  },
  {
   "cell_type": "code",
   "execution_count": 19,
   "id": "a16c185e",
   "metadata": {},
   "outputs": [
    {
     "data": {
      "text/plain": [
       "title     Wolf of Wall Street, The (2013)\n",
       "genres                 Comedy|Crime|Drama\n",
       "Name: 106782, dtype: object"
      ]
     },
     "execution_count": 19,
     "metadata": {},
     "output_type": "execute_result"
    }
   ],
   "source": [
    "movies.loc[106782]"
   ]
  },
  {
   "cell_type": "code",
   "execution_count": 20,
   "id": "354200dc",
   "metadata": {},
   "outputs": [
    {
     "data": {
      "text/plain": [
       "title            Mad Max: Fury Road (2015)\n",
       "genres    Action|Adventure|Sci-Fi|Thriller\n",
       "Name: 122882, dtype: object"
      ]
     },
     "execution_count": 20,
     "metadata": {},
     "output_type": "execute_result"
    }
   ],
   "source": [
    "movies.loc[122882]"
   ]
  },
  {
   "cell_type": "code",
   "execution_count": 21,
   "id": "2cb1ab12",
   "metadata": {},
   "outputs": [
    {
     "data": {
      "text/plain": [
       "title     The Jinx: The Life and Deaths of Robert Durst ...\n",
       "genres                                          Documentary\n",
       "Name: 131724, dtype: object"
      ]
     },
     "execution_count": 21,
     "metadata": {},
     "output_type": "execute_result"
    }
   ],
   "source": [
    "movies.loc[131724]"
   ]
  },
  {
   "cell_type": "code",
   "execution_count": 49,
   "id": "88e27579",
   "metadata": {},
   "outputs": [],
   "source": [
    "wide = ratings.pivot(index='userId', columns='movieId', values='rating')"
   ]
  },
  {
   "cell_type": "code",
   "execution_count": 50,
   "id": "aed73ce5",
   "metadata": {},
   "outputs": [],
   "source": [
    "cor = wide.T.corr()"
   ]
  },
  {
   "cell_type": "code",
   "execution_count": 51,
   "id": "781b11ff",
   "metadata": {},
   "outputs": [],
   "source": [
    "wide.fillna(-1, inplace=True)"
   ]
  },
  {
   "cell_type": "code",
   "execution_count": 52,
   "id": "4629b25d",
   "metadata": {},
   "outputs": [],
   "source": [
    "from scipy.spatial.distance import pdist, squareform"
   ]
  },
  {
   "cell_type": "code",
   "execution_count": 53,
   "id": "8475cd54",
   "metadata": {},
   "outputs": [],
   "source": [
    "euclidean_distances = squareform(pdist(wide, metric=euclidean)) "
   ]
  },
  {
   "cell_type": "code",
   "execution_count": 54,
   "id": "57fdbc3e",
   "metadata": {},
   "outputs": [],
   "source": [
    "euclidean_df = pd.DataFrame(data=euclidean_distances, columns=wide.index, index=wide.index)"
   ]
  },
  {
   "cell_type": "code",
   "execution_count": 55,
   "id": "68c27c7d",
   "metadata": {},
   "outputs": [
    {
     "data": {
      "text/plain": [
       "userId\n",
       "2        0.000000\n",
       "442     29.000000\n",
       "461     30.495901\n",
       "189     30.809901\n",
       "508     31.488093\n",
       "          ...    \n",
       "448    171.200175\n",
       "610    171.373860\n",
       "599    185.184368\n",
       "474    206.630709\n",
       "414    232.408046\n",
       "Name: 2, Length: 610, dtype: float64"
      ]
     },
     "execution_count": 55,
     "metadata": {},
     "output_type": "execute_result"
    }
   ],
   "source": [
    "euclidean_df.loc[2].sort_values()"
   ]
  },
  {
   "cell_type": "code",
   "execution_count": 56,
   "id": "18c999be",
   "metadata": {},
   "outputs": [
    {
     "data": {
      "text/plain": [
       "29.0"
      ]
     },
     "execution_count": 56,
     "metadata": {},
     "output_type": "execute_result"
    }
   ],
   "source": [
    "euclidean_df.loc[2].sort_values().loc[442]"
   ]
  },
  {
   "cell_type": "code",
   "execution_count": 57,
   "id": "2477e139",
   "metadata": {},
   "outputs": [
    {
     "data": {
      "text/plain": [
       "userId\n",
       "2      0.000000\n",
       "442    0.042025\n",
       "461    0.046059\n",
       "189    0.046957\n",
       "508    0.049443\n",
       "         ...   \n",
       "610    0.762312\n",
       "448    0.817785\n",
       "599    0.936812\n",
       "474    0.975777\n",
       "414    1.084648\n",
       "Name: 2, Length: 610, dtype: float64"
      ]
     },
     "execution_count": 57,
     "metadata": {},
     "output_type": "execute_result"
    }
   ],
   "source": [
    "cosine_distances = squareform(pdist(wide, metric='cosine'))\n",
    "cosine_df = pd.DataFrame(cosine_distances, columns=wide.index, index=wide.index)\n",
    "cosine_df.loc[2].sort_values()"
   ]
  },
  {
   "cell_type": "code",
   "execution_count": 58,
   "id": "2b8d20e3",
   "metadata": {},
   "outputs": [
    {
     "data": {
      "text/plain": [
       "0.04202531643895069"
      ]
     },
     "execution_count": 58,
     "metadata": {},
     "output_type": "execute_result"
    }
   ],
   "source": [
    "cosine_df.loc[2].sort_values().loc[442]"
   ]
  },
  {
   "cell_type": "code",
   "execution_count": 59,
   "id": "ff38594e",
   "metadata": {},
   "outputs": [
    {
     "name": "stdout",
     "output_type": "stream",
     "text": [
      "movieId\n",
      "362    -1.0\n",
      "524    -1.0\n",
      "2145   -1.0\n",
      "2908   -1.0\n",
      "3752   -1.0\n",
      "4361   -1.0\n",
      "Name: 2, dtype: float64\n",
      "movieId\n",
      "362     2.5\n",
      "524     2.0\n",
      "2145    2.0\n",
      "2908    2.0\n",
      "3752    2.0\n",
      "4361    2.5\n",
      "Name: 442, dtype: float64\n"
     ]
    }
   ],
   "source": [
    "rated_5_by_442_not_watched_by_2 = (wide.loc[442] >= 2) & (wide.loc[2] == -1)\n",
    "print(wide.loc[2][rated_5_by_442_not_watched_by_2])\n",
    "print(wide.loc[442][rated_5_by_442_not_watched_by_2])"
   ]
  },
  {
   "cell_type": "code",
   "execution_count": 60,
   "id": "bec8055f",
   "metadata": {},
   "outputs": [
    {
     "data": {
      "text/plain": [
       "title     Being Human (1993)\n",
       "genres                 Drama\n",
       "Name: 418, dtype: object"
      ]
     },
     "execution_count": 60,
     "metadata": {},
     "output_type": "execute_result"
    }
   ],
   "source": [
    "movies.iloc[362]"
   ]
  },
  {
   "cell_type": "code",
   "execution_count": 37,
   "id": "f478deb1",
   "metadata": {},
   "outputs": [
    {
     "data": {
      "text/plain": [
       "title     Pallbearer, The (1996)\n",
       "genres                    Comedy\n",
       "Name: 612, dtype: object"
      ]
     },
     "execution_count": 37,
     "metadata": {},
     "output_type": "execute_result"
    }
   ],
   "source": [
    "movies.iloc[524]"
   ]
  },
  {
   "cell_type": "code",
   "execution_count": 39,
   "id": "1c449218",
   "metadata": {},
   "outputs": [
    {
     "data": {
      "text/plain": [
       "title     American Beauty (1999)\n",
       "genres             Drama|Romance\n",
       "Name: 2858, dtype: object"
      ]
     },
     "execution_count": 39,
     "metadata": {},
     "output_type": "execute_result"
    }
   ],
   "source": [
    "movies.iloc[2145]"
   ]
  },
  {
   "cell_type": "code",
   "execution_count": 40,
   "id": "3ab116f3",
   "metadata": {},
   "outputs": [
    {
     "data": {
      "text/plain": [
       "title       Bait (2000)\n",
       "genres    Action|Comedy\n",
       "Name: 3898, dtype: object"
      ]
     },
     "execution_count": 40,
     "metadata": {},
     "output_type": "execute_result"
    }
   ],
   "source": [
    "movies.iloc[2908]"
   ]
  },
  {
   "cell_type": "code",
   "execution_count": 41,
   "id": "b2a792ef",
   "metadata": {},
   "outputs": [
    {
     "data": {
      "text/plain": [
       "title     All the Right Moves (1983)\n",
       "genres                 Drama|Romance\n",
       "Name: 5226, dtype: object"
      ]
     },
     "execution_count": 41,
     "metadata": {},
     "output_type": "execute_result"
    }
   ],
   "source": [
    "movies.iloc[3752]"
   ]
  },
  {
   "cell_type": "code",
   "execution_count": 42,
   "id": "574735c5",
   "metadata": {},
   "outputs": [
    {
     "data": {
      "text/plain": [
       "title     Italian Job, The (2003)\n",
       "genres               Action|Crime\n",
       "Name: 6378, dtype: object"
      ]
     },
     "execution_count": 42,
     "metadata": {},
     "output_type": "execute_result"
    }
   ],
   "source": [
    "movies.iloc[4361]"
   ]
  },
  {
   "cell_type": "markdown",
   "id": "681aa57b",
   "metadata": {},
   "source": [
    "User 2 has seen 29 movies. His top movies include: Step Brothers, Inside Job, Warrior, Wolf of Wall Street, Mad Max: Fury Road, and The Jinx: The Life and Deaths of Robert Durst. All of these movies were given a rating of 5 by user 2. The most similar person to user 2 is user 442. Using euclidean distance and cosine user 442 has a euclidean value of 29.0 and cosine value of 0.04202531643895069 to user 2. Both of these values confirm that user 2 and 442 have similar tastes in movies. For the recommendation I used two metrics: Movies that user 442 rated highly and movies user 2 has not seen. From these two metrics the movies: Being Human, Pallbearer, American Beauty, Bait, All the Right Moves, and Italian Job are recommended for user 2. I agree with all of these recommendations except for Italian Job because user 2's favorite genres are Comedy, Comedy/Romance, and Drama, and Italian job is an Action/Crime movie. "
   ]
  }
 ],
 "metadata": {
  "kernelspec": {
   "display_name": "Python 3 (ipykernel)",
   "language": "python",
   "name": "python3"
  },
  "language_info": {
   "codemirror_mode": {
    "name": "ipython",
    "version": 3
   },
   "file_extension": ".py",
   "mimetype": "text/x-python",
   "name": "python",
   "nbconvert_exporter": "python",
   "pygments_lexer": "ipython3",
   "version": "3.9.7"
  }
 },
 "nbformat": 4,
 "nbformat_minor": 5
}
